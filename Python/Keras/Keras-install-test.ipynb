{
 "cells": [
  {
   "cell_type": "code",
   "execution_count": 4,
   "metadata": {},
   "outputs": [],
   "source": [
    "import tensorflow as tf\n",
    "from tensorflow import keras\n",
    "from tensorflow.keras import layers\n",
    "from tensorflow.keras.datasets import mnist\n",
    "import numpy as np\n",
    "from tensorflow.keras.utils import to_categorical "
   ]
  },
  {
   "cell_type": "code",
   "execution_count": 6,
   "metadata": {},
   "outputs": [
    {
     "data": {
      "text/plain": [
       "True"
      ]
     },
     "execution_count": 6,
     "metadata": {},
     "output_type": "execute_result"
    }
   ],
   "source": [
    "tf.test.is_gpu_available()"
   ]
  },
  {
   "cell_type": "code",
   "execution_count": 3,
   "metadata": {},
   "outputs": [
    {
     "data": {
      "text/plain": [
       "[name: \"/device:CPU:0\"\n",
       " device_type: \"CPU\"\n",
       " memory_limit: 268435456\n",
       " locality {\n",
       " }\n",
       " incarnation: 18434885779150687821,\n",
       " name: \"/device:GPU:0\"\n",
       " device_type: \"GPU\"\n",
       " memory_limit: 7053531546\n",
       " locality {\n",
       "   bus_id: 1\n",
       "   links {\n",
       "   }\n",
       " }\n",
       " incarnation: 10256513006397214317\n",
       " physical_device_desc: \"device: 0, name: GeForce RTX 2060 SUPER, pci bus id: 0000:3b:00.0, compute capability: 7.5\"]"
      ]
     },
     "execution_count": 3,
     "metadata": {},
     "output_type": "execute_result"
    }
   ],
   "source": [
    "device_lib.list_local_devices()"
   ]
  },
  {
   "cell_type": "code",
   "execution_count": 8,
   "metadata": {},
   "outputs": [
    {
     "name": "stdout",
     "output_type": "stream",
     "text": [
      "Downloading data from https://storage.googleapis.com/tensorflow/tf-keras-datasets/mnist.npz\n",
      "11493376/11490434 [==============================] - 0s 0us/step\n"
     ]
    }
   ],
   "source": [
    "(x_train,y_train),(x_test,y_test)=mnist.load_data()"
   ]
  },
  {
   "cell_type": "code",
   "execution_count": 9,
   "metadata": {},
   "outputs": [],
   "source": [
    "x_train=x_train.astype('float32')/255.\n",
    "x_test=x_test.astype('float32')/255."
   ]
  },
  {
   "cell_type": "code",
   "execution_count": 11,
   "metadata": {},
   "outputs": [],
   "source": [
    "x_train=x_train.reshape(-1,28*28)"
   ]
  },
  {
   "cell_type": "code",
   "execution_count": 13,
   "metadata": {},
   "outputs": [],
   "source": [
    "x_test=x_test.reshape(-1,28*28)"
   ]
  },
  {
   "cell_type": "code",
   "execution_count": 17,
   "metadata": {},
   "outputs": [],
   "source": [
    "y_train=to_categorical(y_train)\n",
    "y_test=to_categorical(y_test)"
   ]
  },
  {
   "cell_type": "code",
   "execution_count": 24,
   "metadata": {},
   "outputs": [
    {
     "data": {
      "text/plain": [
       "(60000, 10)"
      ]
     },
     "execution_count": 24,
     "metadata": {},
     "output_type": "execute_result"
    }
   ],
   "source": [
    "y_train.shape"
   ]
  },
  {
   "cell_type": "markdown",
   "metadata": {},
   "source": [
    "## GPU"
   ]
  },
  {
   "cell_type": "code",
   "execution_count": 39,
   "metadata": {},
   "outputs": [
    {
     "name": "stdout",
     "output_type": "stream",
     "text": [
      "Train on 48000 samples, validate on 12000 samples\n",
      "Epoch 1/10\n",
      "48000/48000 [==============================] - 1s 26us/sample - loss: 0.4757 - val_loss: 0.2029\n",
      "Epoch 2/10\n",
      "48000/48000 [==============================] - 1s 11us/sample - loss: 0.1774 - val_loss: 0.1371\n",
      "Epoch 3/10\n",
      "48000/48000 [==============================] - 1s 11us/sample - loss: 0.1227 - val_loss: 0.1170\n",
      "Epoch 4/10\n",
      "48000/48000 [==============================] - 1s 11us/sample - loss: 0.0928 - val_loss: 0.1027\n",
      "Epoch 5/10\n",
      "48000/48000 [==============================] - 1s 11us/sample - loss: 0.0741 - val_loss: 0.0915\n",
      "Epoch 6/10\n",
      "48000/48000 [==============================] - 1s 11us/sample - loss: 0.0572 - val_loss: 0.0808\n",
      "Epoch 7/10\n",
      "48000/48000 [==============================] - 1s 11us/sample - loss: 0.0461 - val_loss: 0.0827\n",
      "Epoch 8/10\n",
      "48000/48000 [==============================] - 1s 11us/sample - loss: 0.0377 - val_loss: 0.0790\n",
      "Epoch 9/10\n",
      "48000/48000 [==============================] - 1s 11us/sample - loss: 0.0310 - val_loss: 0.0771\n",
      "Epoch 10/10\n",
      "48000/48000 [==============================] - 1s 11us/sample - loss: 0.0254 - val_loss: 0.0755\n",
      "Wall time: 6.11 s\n"
     ]
    }
   ],
   "source": [
    "%%time\n",
    "model=keras.Sequential([\n",
    "    keras.Input(shape=x_train.shape[1:]),\n",
    "    layers.Dense(512,activation='relu'),\n",
    "    layers.Dropout(0.1),\n",
    "    layers.Dense(64,activation='relu'),\n",
    "    layers.Dense(10,activation='softmax')\n",
    "])\n",
    "model.compile(optimizer='adam',loss='categorical_crossentropy')\n",
    "h=model.fit(x_train,y_train,epochs=10,batch_size=526,validation_split=0.2)"
   ]
  },
  {
   "cell_type": "markdown",
   "metadata": {},
   "source": [
    "## CPU"
   ]
  },
  {
   "cell_type": "code",
   "execution_count": 38,
   "metadata": {},
   "outputs": [
    {
     "name": "stdout",
     "output_type": "stream",
     "text": [
      "Train on 48000 samples, validate on 12000 samples\n",
      "Epoch 1/10\n",
      "48000/48000 [==============================] - 4s 85us/sample - loss: 0.3487 - val_loss: 0.1648\n",
      "Epoch 2/10\n",
      "48000/48000 [==============================] - 4s 76us/sample - loss: 0.1342 - val_loss: 0.1088\n",
      "Epoch 3/10\n",
      "48000/48000 [==============================] - 4s 77us/sample - loss: 0.0865 - val_loss: 0.0947\n",
      "Epoch 4/10\n",
      "48000/48000 [==============================] - 4s 76us/sample - loss: 0.0640 - val_loss: 0.0826\n",
      "Epoch 5/10\n",
      "48000/48000 [==============================] - 4s 76us/sample - loss: 0.0480 - val_loss: 0.0804\n",
      "Epoch 6/10\n",
      "48000/48000 [==============================] - 4s 77us/sample - loss: 0.0368 - val_loss: 0.0796\n",
      "Epoch 7/10\n",
      "48000/48000 [==============================] - 4s 77us/sample - loss: 0.0280 - val_loss: 0.0803\n",
      "Epoch 8/10\n",
      "48000/48000 [==============================] - 4s 78us/sample - loss: 0.0233 - val_loss: 0.0768\n",
      "Epoch 9/10\n",
      "48000/48000 [==============================] - 4s 76us/sample - loss: 0.0195 - val_loss: 0.0728\n",
      "Epoch 10/10\n",
      "48000/48000 [==============================] - 4s 76us/sample - loss: 0.0142 - val_loss: 0.0781\n",
      "Wall time: 37.4 s\n"
     ]
    }
   ],
   "source": [
    "%%time\n",
    "with tf.device('/device:CPU:0'):\n",
    "    model=keras.Sequential([\n",
    "        keras.Input(shape=x_train.shape[1:]),\n",
    "        layers.Dense(512,activation='relu'),\n",
    "        layers.Dropout(0.1),\n",
    "        layers.Dense(64,activation='relu'),\n",
    "        layers.Dense(10,activation='softmax')\n",
    "    ])\n",
    "    model.compile(optimizer='adam',loss='categorical_crossentropy')\n",
    "    h=model.fit(x_train,y_train,epochs=10,batch_size=256,validation_split=0.2) "
   ]
  },
  {
   "cell_type": "code",
   "execution_count": null,
   "metadata": {},
   "outputs": [],
   "source": []
  }
 ],
 "metadata": {
  "kernelspec": {
   "display_name": "Python 3",
   "language": "python",
   "name": "python3"
  },
  "language_info": {
   "codemirror_mode": {
    "name": "ipython",
    "version": 3
   },
   "file_extension": ".py",
   "mimetype": "text/x-python",
   "name": "python",
   "nbconvert_exporter": "python",
   "pygments_lexer": "ipython3",
   "version": "3.7.1"
  }
 },
 "nbformat": 4,
 "nbformat_minor": 4
}
