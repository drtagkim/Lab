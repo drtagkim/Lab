{
 "cells": [
  {
   "cell_type": "markdown",
   "metadata": {},
   "source": [
    "# 게임 산업 영향 시뮬레이션\n",
    "## 개요\n",
    "* 2020년 12월 - 2021년 2월\n",
    "* 김태경, 광운대학교 경영학부 부교수\n",
    "* 게임산업 영향 시뮬레이션\n",
    "* 간소화 버전"
   ]
  },
  {
   "cell_type": "markdown",
   "metadata": {},
   "source": [
    "## 코드\n",
    "\n",
    "### 모듈"
   ]
  },
  {
   "cell_type": "code",
   "execution_count": 140,
   "metadata": {},
   "outputs": [],
   "source": [
    "import random\n",
    "\n",
    "import mesa\n",
    "from mesa import Agent,Model\n",
    "from mesa.space import MultiGrid\n",
    "from mesa.time import RandomActivation\n",
    "from mesa.datacollection import DataCollector\n",
    "\n",
    "import numpy as np\n",
    "import pandas as pd\n",
    "import matplotlib.pyplot as plt"
   ]
  },
  {
   "cell_type": "markdown",
   "metadata": {},
   "source": [
    "### 전역 파라미터"
   ]
  },
  {
   "cell_type": "markdown",
   "metadata": {},
   "source": [
    "질병코드가 도입된다. 영향은 뭘까?\n",
    "\n",
    "1. **게임 인식 악화** 게임에 대한 인식 악화, 단순히 게임을 피하게 될 것.\n",
    "1. **게임 행위 제제** 외력에 의한 게임 사용 제제가 강제될 수 있을 것.\n",
    "1. **게임세 도입** 질병 치유를 위한 목적으로 게임세를 내야 할 수도\n",
    "\n",
    "세팅\n",
    "1. **게임 인식 악화** -> 게임을 하기 위한 toss 확률 변화\n",
    "1. **행위 제제** -> INSPECTION 상승\n",
    "1. **게임세 도입** -> TAX 부과로 spending 상각"
   ]
  },
  {
   "cell_type": "code",
   "execution_count": 141,
   "metadata": {},
   "outputs": [],
   "source": [
    "ISOLATION_DURATION=7 #isolated for a week\n",
    "TICKET_REGEN_MAX=8 #regenerating tickets\n",
    "TICKET_REGEN_TICK=2 #ticket regen ticks\n",
    "TICKET_PURCHASE_P=0.01\n",
    "SEARCH_SPACE_X=10\n",
    "SEARCH_SPACE_Y=10\n",
    "NUM_PLAYERS=100\n",
    "NUM_GAME_TIME=365*3 #3년 유지되는 게임에서\n",
    "FLOW_THRESHOLD=365*2 #2년 정도 게임 경험이 있으면 flow 상태가정\n",
    "FLOW_P=0.02 #probability of getting in flow 2% 정도가 열혈 게이머\n",
    "INITIAL_FLOW=0.02 #2 percent\n",
    "CURE_DURATION=7\n",
    "LOSS_EXP=CURE_DURATION*4\n",
    "GAME_FUN_LOSS=0.0001\n",
    "SPENDING_UNIT=10000\n",
    "INBOUND_GAMER_P=0.75\n",
    "#\n",
    "RETRY=5 #게임 상대를 찾는 횟수(최대)\n",
    "AR_WINDOW=90 #분기마다 통계"
   ]
  },
  {
   "cell_type": "markdown",
   "metadata": {},
   "source": [
    "질병코드 도입=1, 도입 안함=0 컨트롤"
   ]
  },
  {
   "cell_type": "code",
   "execution_count": 142,
   "metadata": {},
   "outputs": [],
   "source": [
    "TRT_PERCEPTION=0 #1=인식 악화, 0=없음\n",
    "TRT_FORCE=0 #1=행위 제제, 0=없음\n",
    "TRT_TAX=0 #1=게임세 도입\n",
    "\n",
    "GAMING_P_MAX=0.5\n",
    "GAMING_P_MIN=0.4\n",
    "INSPECTION_MAX=0.02 #inspection rate 2% up\n",
    "INSPECTION_MIN=0.01\n",
    "SPENDING_DESC=(1-0.74) #담배 세금은 전체의 74%\n",
    "ADULT_PERCEPTION_DISCOUNT_MAX=0.75\n",
    "ADULT_PERCEPTION_DISCOUNT_MIN=0.5"
   ]
  },
  {
   "cell_type": "markdown",
   "metadata": {},
   "source": [
    "### 유틸리티 함수"
   ]
  },
  {
   "cell_type": "code",
   "execution_count": 143,
   "metadata": {},
   "outputs": [],
   "source": [
    "## 게임 그룹을 생성\n",
    "# P2pGame\n",
    "\n",
    "def make_group(inlist,size):\n",
    "    items=inlist[:]\n",
    "    random.shuffle(items) #item shuffle\n",
    "    gid=1\n",
    "    result={}\n",
    "    while len(items)>0:\n",
    "        r=[]\n",
    "        for _ in range(size):\n",
    "            try:\n",
    "                r.append(items.pop(0))\n",
    "            except:\n",
    "                break\n",
    "        if len(r)>0:\n",
    "            result[gid]=r\n",
    "            gid+=1\n",
    "    return result"
   ]
  },
  {
   "cell_type": "code",
   "execution_count": 144,
   "metadata": {},
   "outputs": [],
   "source": [
    "def fun_loss(tick):\n",
    "    p=tick/NUM_GAME_TIME\n",
    "    if p<0.1:\n",
    "        return 1.0\n",
    "    elif p>=0.1 and p<0.2:\n",
    "        return -1*p+1.1\n",
    "    elif p>=0.2 and p<0.4:\n",
    "        return -3*p+1.5\n",
    "    elif p>=0.4 and p<0.6:\n",
    "        return -1.5*p+0.9\n",
    "    else:\n",
    "        return 0.0"
   ]
  },
  {
   "cell_type": "code",
   "execution_count": 145,
   "metadata": {},
   "outputs": [],
   "source": [
    "x=np.arange(NUM_GAME_TIME)\n",
    "f=np.vectorize(fun_loss)\n",
    "y=f(x)"
   ]
  },
  {
   "cell_type": "code",
   "execution_count": 146,
   "metadata": {},
   "outputs": [
    {
     "data": {
      "image/png": "[encoded data removed]",
      "text/plain": [
       "<Figure size 432x288 with 1 Axes>"
      ]
     },
     "metadata": {
      "needs_background": "light"
     },
     "output_type": "display_data"
    }
   ],
   "source": [
    "plt.plot(x,y)\n",
    "plt.show()"
   ]
  },
  {
   "cell_type": "markdown",
   "metadata": {},
   "source": [
    "## 게임 사용자"
   ]
  },
  {
   "cell_type": "code",
   "execution_count": 147,
   "metadata": {},
   "outputs": [],
   "source": [
    "class Gamer1(Agent):\n",
    "    def __init__(self,unique_id,model,moore=True):\n",
    "        super().__init__(unique_id,model)\n",
    "        self.moore=moore\n",
    "        self.model=model\n",
    "        self.flow=0 #1=flow, 0=not flow\n",
    "        self.spending=0 #game spending\n",
    "        self.active=1 #active gamer\n",
    "        #Global -----------------------------------\n",
    "        self.exp=0 #game experience\n",
    "        #parameter for P2M ------------------------\n",
    "        self.ticket=0 #game ticket,(P2m)\n",
    "        self.ticket_regen_time=TICKET_REGEN_TICK\n",
    "        #parameter for P2P ------------------------\n",
    "        self.isolated=0 #\n",
    "        self.isolated_duration=0\n",
    "\n",
    "# = 게이머의 행동 결정 프로세스\n",
    "    def step(self):\n",
    "        self.reset_spending() #현재 시점의 spending reset\n",
    "        if self.check_game_continue(): #게임에 대한 흥미를 잃었나? 확인\n",
    "            return #흥미를 잃었다면 그만둔다.\n",
    "        self.ticket_regen_time-=1 #게임 접속 무료티켓 1개 감소(게임 접속)\n",
    "        gaming_prob=self.random.uniform(GAMING_P_MIN,GAMING_P_MAX)\n",
    "        if TRT_PERCEPTION==0 or self.model.toss(gaming_prob): #부정적 인식 없거나, 있으면 게임 참여를 위해 주사위 던지기\n",
    "            if self.recover(): #격리가 없을 경우\n",
    "                self.play_game()  #게임 플레이\n",
    "                self.get_free_ticket() #무료 티켓을 다시 받는다.\n",
    "        self.be_loyal_player() #게임 사용자의 involvement (addiction or flow) 결정\n",
    "# == 게임을 계속할 의사가 있을까 결정\n",
    "    def check_game_continue(self):\n",
    "        if self.model.toss(fun_loss(self.model.tick)): #비선형 fun_loss()함수 소환 -> 게임 출시 시간에 따라 흥미 결정\n",
    "            self.active=1 #흥미의 결정 확률은 비선형적으로 줄어든다. 흥미가 있으면 active=1\n",
    "        else:\n",
    "            self.active=0 #흥미를 잃었다.\n",
    "        return self.active==0 #게임에 흥미를 잃었나? True, False\n",
    "# == 당기의 지출액 리셋\n",
    "    def reset_spending(self):\n",
    "        self.spending=0\n",
    "    def contribution_game_company(self):\n",
    "        #SPENDING_UNIT은 1회 지출규모(단위 금액 - 시뮬레이션에 오해가 많아서 단위 조정을 해야 할 듯.\n",
    "        #SPENDING_DESC는 0과 1사이. 게임회사가 정액 세율을 x 이면 (1-x)가 SPENDING_DESC\n",
    "        return SPENDING_UNIT*(SPENDING_DESC if TRT_TAX else 1)\n",
    "# == 게임 플레이\n",
    "    def play_game(self):\n",
    "        if self.ticket > 0: #플레이 티켓이 있을 경우\n",
    "            self.ticket-=1 #티켓을 주고 플레이\n",
    "            self.exp+=1 #경험치가 쌓인다. 경험치는 flow 결정에 장기적 영향\n",
    "        else: #티켓이 모두 소진되었다면?\n",
    "            if self.flow: #flow상태인가?\n",
    "                self.spending=self.contribution_game_company() #구매 결정이 게임사에 주는 이익\n",
    "            else: #flow상태가 아니다.\n",
    "                if self.model.toss(TICKET_PURCHASE_P): #티켓 구매 의사결정의 확률(유료 아이템 구매 확률)\n",
    "                    self.spending=self.contribution_game_company() #구매 결정이 게임사에 주는 이익\n",
    "# == 무료 게임 티켓을 받기\n",
    "    def get_free_ticket(self):\n",
    "        if self.ticket_regen_time<=0: #티켓 무료 배포기간이 지났다면\n",
    "            self.refresh() #게임 상태 리프레쉬!\n",
    "# == 로열 플레이어(flow) 탄생시키기\n",
    "    def be_loyal_player(self):\n",
    "        if self.recover(): #강제 격리가 없을 경우\n",
    "            if self.exp >= FLOW_THRESHOLD: #흥미 기준은 경험치\n",
    "                if self.model.toss(FLOW_P): #주사위를 던져 의사결정을 한다.\n",
    "                    self.flow=1 #과몰입 상태(티켓이 필요하면 사고, 아이템은 따라 구매한다)\n",
    "    def recover(self): #강제 격리가 있을 경우\n",
    "        if self.isolated:\n",
    "            if self.isolated_duration<=0:\n",
    "                self.isolated=0\n",
    "                self.isolated_duration=0\n",
    "                self.refresh()\n",
    "                return True\n",
    "            else:\n",
    "                self.isolated_duration-=1\n",
    "            return False\n",
    "        return True\n",
    "# == 게임 과몰입으로 격리 조치될 경우(게임 질병 코드 부여시)\n",
    "    def isolate(self):\n",
    "        self.flow=0 #과몰입 해제\n",
    "        self.isolated=1 #격리 마크(낙인)\n",
    "        self.ticket=0 #참가 티켓 몰수\n",
    "        self.isolated_duration=CURE_DURATION #치료 기간만큼 격리 기간 설정(매 기간 -1씩)\n",
    "        self.exp-=LOSS_EXP #경험치 일몰\n",
    "        #경험치 일몰은 최대 exp=0까지만 허용\n",
    "        if self.exp<0:\n",
    "            self.exp=0\n",
    "# == 과몰입 치료(게임 질병 코드 부여시)\n",
    "    def cure(self):\n",
    "        self.isolated-=1 #치료\n",
    "# == 티켓 리프레쉬\n",
    "    def refresh(self):\n",
    "        #TODO - 게임 티켓 리젠 결정을 좀더 봐야\n",
    "        self.ticket=self.random.choice(list(range(1,TICKET_REGEN_MAX)))\n",
    "        self.ticket_regen_time=TICKET_REGEN_TICK"
   ]
  },
  {
   "cell_type": "code",
   "execution_count": 148,
   "metadata": {},
   "outputs": [],
   "source": [
    "class Gamer2(Gamer1):\n",
    "    def __init__(self,unique_id,model,moore=True):\n",
    "        super().__init__(unique_id,model,moore) #Gamer\n",
    "# = 게이머의 행동 결정 프로세스\n",
    "    def step(self):\n",
    "        self.reset_spending() #현재 시점의 spending reset\n",
    "        if self.check_game_continue(): #게임에 대한 흥미를 잃었나? 확인\n",
    "            return #흥미를 잃었다면 그만둔다.\n",
    "        self.ticket_regen_time-=1 #게임 접속 무료티켓 1개 감소(게임 접속)\n",
    "        if self.check_buddy():\n",
    "            gaming_prob=self.random.uniform(GAMING_P_MIN,GAMING_P_MAX)\n",
    "            if TRT_PERCEPTION==0 or self.model.toss(gaming_prob): #부정적 인식 없거나, 있으면 게임 참여를 위해 주사위 던지기\n",
    "                if self.recover(): #격리가 없을 경우\n",
    "                    self.play_game()  #게임 플레이\n",
    "                    self.get_free_ticket() #무료 티켓을 다시 받는다.\n",
    "            self.be_loyal_player() #게임 사용자의 involvement (addiction or flow) 결정\n",
    "# == 플레이할 상대편이 존재하는가를 검사\n",
    "    def check_buddy(self):\n",
    "        #상대방을 선택할 수 있는가?\n",
    "        mates=self.model.grid.get_cell_list_contents([self.pos,]) #같은 위치에서 상대를 고른다.\n",
    "        trial=0\n",
    "        while trial < RETRY:\n",
    "            trial+=1\n",
    "            if len(mates)>1:\n",
    "                other=self.random.choice(mates) #pick one\n",
    "                if self.unique_id != other.unique_id: #다른 사람\n",
    "                    if other.isolated==0 and other.active==1: #격리 아니고 아직 게임을 하면\n",
    "                        return True #게임을 시작할 수 있다.\n",
    "                break\n",
    "            else: #no one here\n",
    "                x=self.model.random.randrange(self.model.grid.width)\n",
    "                y=self.model.random.randrange(self.model.grid.height)\n",
    "                self.model.grid.place_agent(self,(x,y,)) #다른 위치로 이동\n",
    "        return False #상대를 찾지 못하기 때문에 게임을 할 수 없다."
   ]
  },
  {
   "cell_type": "markdown",
   "metadata": {},
   "source": [
    "성인 게임 사용자는 청소년과 무엇이 다른가?\n",
    "* 부정적 인식에 대해 그다지 신경을 쓰지 않는다. 할인율 적용(ADULT_PERCEPTION_DISCOUNT) - Agent에서 처리\n",
    "* 행위 제제가 어렵다 TRT_FORCE에서 영향(Model에서 처리)"
   ]
  },
  {
   "cell_type": "code",
   "execution_count": 149,
   "metadata": {},
   "outputs": [],
   "source": [
    "#성인, 대전형 게임 사용자\n",
    "class Gamer3(Gamer2):\n",
    "    def __init__(self,unique_id,model,moore=True):\n",
    "        super().__init__(unique_id,model,moore) #Gamer\n",
    "# = 게이머의 행동 결정 프로세스\n",
    "    def step(self):\n",
    "        self.reset_spending() #현재 시점의 spending reset\n",
    "        if self.check_game_continue(): #게임에 대한 흥미를 잃었나? 확인\n",
    "            return #흥미를 잃었다면 그만둔다.\n",
    "        self.ticket_regen_time-=1 #게임 접속 무료티켓 1개 감소(게임 접속)\n",
    "        if self.check_buddy():\n",
    "            gaming_prob=self.random.uniform(GAMING_P_MIN,GAMING_P_MAX)\n",
    "            adiscount_prob=self.random.uniform(ADULT_PERCEPTION_DISCOUNT_MIN,ADULT_PERCEPTION_DISCOUNT_MAX)\n",
    "            decision=self.model.toss(GAMING_P) or self.model.toss(adiscount_prob)\n",
    "            if TRT_PERCEPTION==0 or decision:\n",
    "                if self.recover(): #격리가 없을 경우\n",
    "                    self.play_game()  #게임 플레이\n",
    "                    self.get_free_ticket() #무료 티켓을 다시 받는다.\n",
    "            self.be_loyal_player() #게임 사용자의 involvement (addiction or flow) 결정"
   ]
  },
  {
   "cell_type": "markdown",
   "metadata": {},
   "source": [
    "## 게임\n",
    "### 게임 종류에 따라\n",
    "\n",
    "1. 캐주얼 게임 - 티켓 구매해서 그냥 혼자 수행\n",
    "1. 웹보드 게임 - 대전 상대를 랜덤하게 선택하여 수행(상대방 필요)\n",
    "1. MMOPRG - 파티 구성해서 그냥 혼자/단체 수행(상대방 필요)\n",
    "1. FPS/대전형 게임 - 파티 구성해서 실행(상대방 필요)\n",
    "\n",
    "간단하게 변경하면?\n",
    "\n",
    "1. 대전상대가 필요없는 경우/대전상대가 필요한 경우\n",
    "\n"
   ]
  },
  {
   "cell_type": "code",
   "execution_count": 167,
   "metadata": {},
   "outputs": [],
   "source": [
    "class Game(Model):\n",
    "# = 게임 세계의 천지창조\n",
    "    def __init__(self,N,width,height,gamer_type=1):\n",
    "        #N - 게임사용자(처음부터 full이라고 가정, 게임의 신규 사용자는 없음)\n",
    "        #width, height - 격리(질병코드 부과 시) 시 대상자 탐색 공간의 크기, 전수 조사하는 것을 원칙, 사실 의미는 없음\n",
    "        #gamer_type, (=1 혼자 플레이, =2 협동 플레이)\n",
    "        self.tick=0 #게임 시간\n",
    "        self.ssn=0\n",
    "        self.num_agents=N #게임사용자\n",
    "        self.gamer_type=gamer_type #게임 사용자 타입\n",
    "        self.schedule=RandomActivation(self) #시간 개념 창조(ABM 위해)\n",
    "        self.grid=MultiGrid(width,height,True) #공간 개념 창조(의미는 없음 - ABM보다는 MCMC에 가까움)\n",
    "        self.join_game() #게임 참가, 모든 잠재적 사용자가 일단 게임에 참가함\n",
    "        self.register_data_collector() #게임 데이터 수집기 생성하고 등록함\n",
    "# = 게임 세계의 불확실성 컨트롤\n",
    "    def toss(self,p=0.5): #stochastic process에 따라 처리\n",
    "        return self.random.random() <= p #일양분포 가정\n",
    "# == 게임 참가\n",
    "    def join_game(self):\n",
    "        N=self.num_agents\n",
    "        for i in range(N):\n",
    "            self.hatch(i) #agent 부화\n",
    "            self.ssn=i #고유등록번호 발급\n",
    "    def inbound_gamer(self):\n",
    "        if self.toss(INBOUND_GAMER_P):\n",
    "            self.ssn+=1\n",
    "            self.hatch(self.ssn)\n",
    "# = 게임 사용자 탄생(부화)\n",
    "    def hatch(self,unique_id):\n",
    "        if self.gamer_type==1:\n",
    "            gamer=Gamer1(unique_id,self) #단독 게임 사용자\n",
    "        elif self.gamer_type==2:\n",
    "            gamer=Gamer2(unique_id,self) #협동 게임 사용자\n",
    "        else:\n",
    "            gamer=Gamer1(unique_id,self) #기본값은 단독 게임 사용자\n",
    "        self.inbound_flow_gamer(gamer) #과몰입 사용자 유입 결정\n",
    "        self.relationship(gamer) #게임과 게임 사용자의 최초 관계 설정\n",
    "        self.make_gamer_alive(gamer) #게임 사용자를 게임 세계에 위치\n",
    "# == 게임 사용자와 게임과의 관계 설정\n",
    "    def relationship(self,gamer):\n",
    "        gamer.ticket=self.random.choice(list(range(1,TICKET_REGEN_MAX))) #티켓 배포\n",
    "# == 게임 사용자를 게임 세계에 위치\n",
    "    def make_gamer_alive(self,gamer):\n",
    "        self.schedule.add(gamer) #시간 부여\n",
    "        x=self.random.randrange(self.grid.width) #공간 부여할 x\n",
    "        y=self.random.randrange(self.grid.height) #공간 부여할 y\n",
    "        self.grid.place_agent(gamer,(x,y,)) #공간 위에 agent 위치\n",
    "# == 과몰입 사용자의 유입\n",
    "    def inbound_flow_gamer(self,gamer):\n",
    "        if self.toss(p=INITIAL_FLOW): #과몰입 사용자 유입확률에 따라\n",
    "            gamer.flow=1 #과몰입 사용자 유입\n",
    "# == 무슨 데이터를 살펴볼 것인지 등록\n",
    "    def register_data_collector(self):\n",
    "        self.datacollector=DataCollector(\n",
    "            agent_reporters={\"Spending\":\"spending\",\"Flow\":\"flow\"}\n",
    "        )\n",
    "# == 검사(질병코드 있을 때)\n",
    "    def inspect(self,discount=0):\n",
    "        for cell in self.grid.coord_iter(): #visit places\n",
    "            inspection_prob=self.random.uniform(INSPECTION_MIN,INSPECTION_MAX)\n",
    "            if self.toss(inspection_prob*(1-discount)): #현재 위치를 검사할 것인지를 결정함\n",
    "                content,x,y=cell\n",
    "                for gamer in content: #게임 사용자에 대해\n",
    "                    if gamer.flow: #flow이면\n",
    "                        gamer.isolate() #격리한다.\n",
    "# == 시간을 지나가게 하기\n",
    "    def step(self,i):\n",
    "        #i = tick(시뮬레이션 시간)\n",
    "        self.tick=i #tick 저장\n",
    "        self.inbound_gamer() #게임이 점차 대중에게 알려짐\n",
    "        self.datacollector.collect(self) #데이터 수집\n",
    "        #== 행위자\n",
    "        self.schedule.step() #게임 사용자들이 시간 보내기\n",
    "        #=== 환경\n",
    "        if TRT_FORCE: #질병코드 효과 있을 때\n",
    "            if self.gamer_type != 3:\n",
    "                self.inspect() #강제 검사/격리/치료\n",
    "            else:\n",
    "                p=self.random.uniform(ADULT_PERCEPTION_DISCOUNT_MIN,ADULT_PERCEPTION_DISCOUNT_MAX)\n",
    "                self.inspect(p)"
   ]
  },
  {
   "cell_type": "markdown",
   "metadata": {},
   "source": [
    "# Reality Check"
   ]
  },
  {
   "cell_type": "code",
   "execution_count": 155,
   "metadata": {},
   "outputs": [],
   "source": [
    "def sim(game_type=1,ylim=6000):\n",
    "    m=Game(NUM_PLAYERS,SEARCH_SPACE_X,SEARCH_SPACE_Y,game_type)\n",
    "    for i in range(NUM_GAME_TIME):\n",
    "        m.step(i)\n",
    "    p=m.datacollector.get_agent_vars_dataframe()\n",
    "    y=p.groupby('Step')['Spending'].sum().rolling(window=AR_WINDOW).mean()\n",
    "    x=np.arange(y.size)\n",
    "    plt.fill_between(x,y,color='skyblue',alpha=0.8)\n",
    "    plt.plot(x,y,color='red',alpha=0.6)\n",
    "    if y.max() > ylim:\n",
    "        ylim=y.max()*1.05\n",
    "    plt.ylim((0,ylim))\n",
    "    plt.xlabel(\"Time Tick\")\n",
    "    plt.ylabel(\"Sales\")\n",
    "    plt.show()\n",
    "    earning=np.round(y.sum())\n",
    "    print(\"Y axis max = \",np.round(ylim))\n",
    "    print(\"Total earning = \",earning)\n",
    "    return earning"
   ]
  },
  {
   "cell_type": "code",
   "execution_count": 152,
   "metadata": {},
   "outputs": [],
   "source": [
    "random.seed(1000)"
   ]
  },
  {
   "cell_type": "markdown",
   "metadata": {},
   "source": [
    "## 대전 상대가 필요없는 게임의 경우"
   ]
  },
  {
   "cell_type": "markdown",
   "metadata": {},
   "source": [
    "#### Base Model"
   ]
  },
  {
   "cell_type": "code",
   "execution_count": 156,
   "metadata": {
    "scrolled": false
   },
   "outputs": [
    {
     "data": {
      "image/png": "[encoded data removed]",
      "text/plain": [
       "<Figure size 432x288 with 1 Axes>"
      ]
     },
     "metadata": {
      "needs_background": "light"
     },
     "output_type": "display_data"
    },
    {
     "name": "stdout",
     "output_type": "stream",
     "text": [
      "Y axis max =  6000\n",
      "Total earning =  1714333.0\n"
     ]
    }
   ],
   "source": [
    "TRT_PERCEPTION=0 #1=인식 악화, 0=없음\n",
    "TRT_FORCE=0 #1=행위 제제, 0=없음\n",
    "TRT_TAX=0 #1=게임세 도입, 0=없음\n",
    "base_sales=sim(1)"
   ]
  },
  {
   "cell_type": "markdown",
   "metadata": {},
   "source": [
    "* 대전 상대방이 없이 혼자 게임을 할 수 있는 게임의 경우\n",
    "* 신규 게임 유저의 유입이 있음\n",
    "* 분기별 정산 및 공시를 가정(첫 공시는 90일 이후)\n",
    "* 게임은 성장을 하다 일정 시점 이후 성장 둔화하고 궁극적으로 매출 발생 없음\n",
    "* 등록된 사용자는 다수이지만 실제 게임을 하는 사람은 없는 구조(식상해져서)"
   ]
  },
  {
   "cell_type": "markdown",
   "metadata": {},
   "source": [
    "#### 질병 코드 도입으로 사회적 인식 악화"
   ]
  },
  {
   "cell_type": "code",
   "execution_count": 158,
   "metadata": {
    "scrolled": true
   },
   "outputs": [
    {
     "data": {
      "image/png": "[encoded data removed]",
      "text/plain": [
       "<Figure size 432x288 with 1 Axes>"
      ]
     },
     "metadata": {
      "needs_background": "light"
     },
     "output_type": "display_data"
    },
    {
     "name": "stdout",
     "output_type": "stream",
     "text": [
      "Y axis max =  6000\n",
      "Total earning =  383222.0\n",
      "Relative sales =  22.4 %\n"
     ]
    }
   ],
   "source": [
    "TRT_PERCEPTION=1 #1=인식 악화, 0=없음\n",
    "TRT_FORCE=0 #1=행위 제제, 0=없음\n",
    "TRT_TAX=0 #1=게임세 도입\n",
    "ex=sim(1)\n",
    "print(\"Relative sales = \",round(ex/base_sales*100,1),\"%\")"
   ]
  },
  {
   "cell_type": "markdown",
   "metadata": {},
   "source": [
    "* 질병 코드 도입으로 게임에 대한 사회적 인식이 악화(TRT_PERCEPTION=1)\n",
    "* 게임이 담배와 같이 몸에 해로운 것으로 인식되어 게이머가 게임 시도에 소극적으로 변화\n",
    "* 게임이 충분히 빠른 속도로 성장하지 못하는 상황\n",
    "* 총 소득은 기준의 22.4% 수준에 그침"
   ]
  },
  {
   "cell_type": "markdown",
   "metadata": {},
   "source": [
    "#### 질병 코드 도입 이후, 질병으로 진단하고 게임 사용자에 강제 수단 동원할 경우"
   ]
  },
  {
   "cell_type": "code",
   "execution_count": 159,
   "metadata": {
    "scrolled": false
   },
   "outputs": [
    {
     "data": {
      "image/png": "[encoded data removed]",
      "text/plain": [
       "<Figure size 432x288 with 1 Axes>"
      ]
     },
     "metadata": {
      "needs_background": "light"
     },
     "output_type": "display_data"
    },
    {
     "name": "stdout",
     "output_type": "stream",
     "text": [
      "Y axis max =  6000\n",
      "Total earning =  700111.0\n",
      "Relative sales =  40.8 %\n"
     ]
    }
   ],
   "source": [
    "TRT_PERCEPTION=0 #1=인식 악화, 0=없음\n",
    "TRT_FORCE=1 #1=행위 제제, 0=없음\n",
    "TRT_TAX=0 #1=게임세 도입\n",
    "ex=sim(1)\n",
    "print(\"Relative sales = \",round(ex/base_sales*100,1),\"%\")"
   ]
  },
  {
   "cell_type": "markdown",
   "metadata": {},
   "source": [
    "#### * 질병 코드 도입을 근거로 게임 사용자를 검사하여 과몰입인 경우, 강제력 행사\n",
    "* 게임 접속을 일정 기간 막고, 게임 경험에 부정적 영향을 줄 수 있는 외력 행사\n",
    "* 총 소득은 40.8% 수준"
   ]
  },
  {
   "cell_type": "markdown",
   "metadata": {},
   "source": [
    "#### 담배에 세금을 물리듯 질병 코드 도입 이후 게임사의 소득에 74%의 세금을 물릴 경우"
   ]
  },
  {
   "cell_type": "code",
   "execution_count": 160,
   "metadata": {
    "scrolled": true
   },
   "outputs": [
    {
     "data": {
      "image/png": "[encoded data removed]",
      "text/plain": [
       "<Figure size 432x288 with 1 Axes>"
      ]
     },
     "metadata": {
      "needs_background": "light"
     },
     "output_type": "display_data"
    },
    {
     "name": "stdout",
     "output_type": "stream",
     "text": [
      "Y axis max =  6000\n",
      "Total earning =  283776.0\n",
      "Relative sales =  16.6 %\n"
     ]
    }
   ],
   "source": [
    "TRT_PERCEPTION=0 #1=인식 악화, 0=없음\n",
    "TRT_FORCE=0 #1=행위 제제, 0=없음\n",
    "TRT_TAX=1 #1=게임세 도입, 0=없음\n",
    "ex=sim(1)\n",
    "print(\"Relative sales = \",round(ex/base_sales*100,1),\"%\")"
   ]
  },
  {
   "cell_type": "markdown",
   "metadata": {},
   "source": [
    "* 세금 포함분을 제외하고 수익을 계산\n",
    "* 소득은 16.6% 수준\n",
    "* 다른 조건에 변화가 없음에도 불구하고 담배 세율을 기준으로 할 경우 기업에 과도한 부담"
   ]
  },
  {
   "cell_type": "markdown",
   "metadata": {},
   "source": [
    "## 대전 상대가 필요한 게임의 경우"
   ]
  },
  {
   "cell_type": "markdown",
   "metadata": {},
   "source": [
    "#### Base Model"
   ]
  },
  {
   "cell_type": "code",
   "execution_count": 161,
   "metadata": {
    "scrolled": true
   },
   "outputs": [
    {
     "data": {
      "image/png": "[encoded data removed]",
      "text/plain": [
       "<Figure size 432x288 with 1 Axes>"
      ]
     },
     "metadata": {
      "needs_background": "light"
     },
     "output_type": "display_data"
    },
    {
     "name": "stdout",
     "output_type": "stream",
     "text": [
      "Y axis max =  6000\n",
      "Total earning =  815778.0\n"
     ]
    }
   ],
   "source": [
    "TRT_PERCEPTION=0 #1=인식 악화, 0=없음\n",
    "TRT_FORCE=0 #1=행위 제제, 0=없음\n",
    "TRT_TAX=0 #1=게임세 도입, 0=없음\n",
    "base_sales=sim(2) #2=협동"
   ]
  },
  {
   "cell_type": "markdown",
   "metadata": {},
   "source": [
    "#### 질병 코드 도입으로 사회적 인식 악화"
   ]
  },
  {
   "cell_type": "code",
   "execution_count": 162,
   "metadata": {
    "scrolled": false
   },
   "outputs": [
    {
     "data": {
      "image/png": "[encoded data removed]",
      "text/plain": [
       "<Figure size 432x288 with 1 Axes>"
      ]
     },
     "metadata": {
      "needs_background": "light"
     },
     "output_type": "display_data"
    },
    {
     "name": "stdout",
     "output_type": "stream",
     "text": [
      "Y axis max =  6000\n",
      "Total earning =  313222.0\n",
      "Relative sales =  38.4 %\n"
     ]
    }
   ],
   "source": [
    "TRT_PERCEPTION=1 #1=인식 악화, 0=없음\n",
    "TRT_FORCE=0 #1=행위 제제, 0=없음\n",
    "TRT_TAX=0 #1=게임세 도입\n",
    "ex=sim(2)\n",
    "print(\"Relative sales = \",round(ex/base_sales*100,1),\"%\")"
   ]
  },
  {
   "cell_type": "markdown",
   "metadata": {},
   "source": [
    "#### 질병 코드 도입 이후, 질병으로 진단하고 게임 사용자에 강제 수단 동원할 경우"
   ]
  },
  {
   "cell_type": "code",
   "execution_count": 163,
   "metadata": {
    "scrolled": true
   },
   "outputs": [
    {
     "data": {
      "image/png": "[encoded data removed]",
      "text/plain": [
       "<Figure size 432x288 with 1 Axes>"
      ]
     },
     "metadata": {
      "needs_background": "light"
     },
     "output_type": "display_data"
    },
    {
     "name": "stdout",
     "output_type": "stream",
     "text": [
      "Y axis max =  6000\n",
      "Total earning =  372667.0\n",
      "Relative sales =  45.7 %\n"
     ]
    }
   ],
   "source": [
    "TRT_PERCEPTION=0 #1=인식 악화, 0=없음\n",
    "TRT_FORCE=1 #1=행위 제제, 0=없음\n",
    "TRT_TAX=0 #1=게임세 도입\n",
    "ex=sim(2)\n",
    "print(\"Relative sales = \",round(ex/base_sales*100,1),\"%\")"
   ]
  },
  {
   "cell_type": "markdown",
   "metadata": {},
   "source": [
    "#### 담배에 세금을 물리듯 질병 코드 도입 이후 게임사의 소득에 74%의 세금을 물릴 경우"
   ]
  },
  {
   "cell_type": "code",
   "execution_count": 171,
   "metadata": {
    "scrolled": true
   },
   "outputs": [
    {
     "data": {
      "image/png": "[encoded data removed]",
      "text/plain": [
       "<Figure size 432x288 with 1 Axes>"
      ]
     },
     "metadata": {
      "needs_background": "light"
     },
     "output_type": "display_data"
    },
    {
     "name": "stdout",
     "output_type": "stream",
     "text": [
      "Y axis max =  6000\n",
      "Total earning =  296573.0\n",
      "Relative sales =  14.8 %\n"
     ]
    }
   ],
   "source": [
    "TRT_PERCEPTION=0 #1=인식 악화, 0=없음\n",
    "TRT_FORCE=0 #1=행위 제제, 0=없음\n",
    "TRT_TAX=1 #1=게임세 도입, 0=없음\n",
    "ex=sim(2)\n",
    "print(\"Relative sales = \",round(ex/base_sales*100,1),\"%\")"
   ]
  },
  {
   "cell_type": "markdown",
   "metadata": {},
   "source": [
    "## 대전 상대가 필요한 성인 대상의 게임의 경우"
   ]
  },
  {
   "cell_type": "markdown",
   "metadata": {},
   "source": [
    "#### Base Model"
   ]
  },
  {
   "cell_type": "code",
   "execution_count": 164,
   "metadata": {
    "scrolled": true
   },
   "outputs": [
    {
     "data": {
      "image/png": "[encoded data removed]",
      "text/plain": [
       "<Figure size 432x288 with 1 Axes>"
      ]
     },
     "metadata": {
      "needs_background": "light"
     },
     "output_type": "display_data"
    },
    {
     "name": "stdout",
     "output_type": "stream",
     "text": [
      "Y axis max =  6000\n",
      "Total earning =  2008444.0\n"
     ]
    }
   ],
   "source": [
    "TRT_PERCEPTION=0 #1=인식 악화, 0=없음\n",
    "TRT_FORCE=0 #1=행위 제제, 0=없음\n",
    "TRT_TAX=0 #1=게임세 도입, 0=없음\n",
    "base_sales=sim(3) #2=협동+성인"
   ]
  },
  {
   "cell_type": "markdown",
   "metadata": {},
   "source": [
    "#### 질병 코드 도입으로 사회적 인식 악화"
   ]
  },
  {
   "cell_type": "code",
   "execution_count": 165,
   "metadata": {
    "scrolled": true
   },
   "outputs": [
    {
     "data": {
      "image/png": "[encoded data removed]",
      "text/plain": [
       "<Figure size 432x288 with 1 Axes>"
      ]
     },
     "metadata": {
      "needs_background": "light"
     },
     "output_type": "display_data"
    },
    {
     "name": "stdout",
     "output_type": "stream",
     "text": [
      "Y axis max =  6000\n",
      "Total earning =  458556.0\n",
      "Relative sales =  22.8 %\n"
     ]
    }
   ],
   "source": [
    "TRT_PERCEPTION=1 #1=인식 악화, 0=없음\n",
    "TRT_FORCE=0 #1=행위 제제, 0=없음\n",
    "TRT_TAX=0 #1=게임세 도입\n",
    "ex=sim(3)\n",
    "print(\"Relative sales = \",round(ex/base_sales*100,1),\"%\")"
   ]
  },
  {
   "cell_type": "markdown",
   "metadata": {},
   "source": [
    "#### 질병 코드 도입 이후, 질병으로 진단하고 게임 사용자에 강제 수단 동원할 경우"
   ]
  },
  {
   "cell_type": "code",
   "execution_count": 168,
   "metadata": {
    "scrolled": true
   },
   "outputs": [
    {
     "data": {
      "image/png": "[encoded data removed]",
      "text/plain": [
       "<Figure size 432x288 with 1 Axes>"
      ]
     },
     "metadata": {
      "needs_background": "light"
     },
     "output_type": "display_data"
    },
    {
     "name": "stdout",
     "output_type": "stream",
     "text": [
      "Y axis max =  6000\n",
      "Total earning =  1648889.0\n",
      "Relative sales =  82.1 %\n"
     ]
    }
   ],
   "source": [
    "TRT_PERCEPTION=0 #1=인식 악화, 0=없음\n",
    "TRT_FORCE=1 #1=행위 제제, 0=없음\n",
    "TRT_TAX=0 #1=게임세 도입\n",
    "ex=sim(3)\n",
    "print(\"Relative sales = \",round(ex/base_sales*100,1),\"%\")"
   ]
  },
  {
   "cell_type": "markdown",
   "metadata": {},
   "source": [
    "#### 담배에 세금을 물리듯 질병 코드 도입 이후 게임사의 소득에 74%의 세금을 물릴 경우"
   ]
  },
  {
   "cell_type": "code",
   "execution_count": 172,
   "metadata": {
    "scrolled": true
   },
   "outputs": [
    {
     "data": {
      "image/png": "[encoded data removed]",
      "text/plain": [
       "<Figure size 432x288 with 1 Axes>"
      ]
     },
     "metadata": {
      "needs_background": "light"
     },
     "output_type": "display_data"
    },
    {
     "name": "stdout",
     "output_type": "stream",
     "text": [
      "Y axis max =  6000\n",
      "Total earning =  441047.0\n",
      "Relative sales =  22.0 %\n"
     ]
    }
   ],
   "source": [
    "TRT_PERCEPTION=0 #1=인식 악화, 0=없음\n",
    "TRT_FORCE=0 #1=행위 제제, 0=없음\n",
    "TRT_TAX=1 #1=게임세 도입, 0=없음\n",
    "ex=sim(3)\n",
    "print(\"Relative sales = \",round(ex/base_sales*100,1),\"%\")"
   ]
  },
  {
   "cell_type": "code",
   "execution_count": null,
   "metadata": {},
   "outputs": [],
   "source": []
  }
 ],
 "metadata": {
  "kernelspec": {
   "display_name": "Python 3",
   "language": "python",
   "name": "python3"
  },
  "language_info": {
   "codemirror_mode": {
    "name": "ipython",
    "version": 3
   },
   "file_extension": ".py",
   "mimetype": "text/x-python",
   "name": "python",
   "nbconvert_exporter": "python",
   "pygments_lexer": "ipython3",
   "version": "3.8.5"
  }
 },
 "nbformat": 4,
 "nbformat_minor": 4
}
