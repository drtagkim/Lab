{
 "cells": [
  {
   "cell_type": "code",
   "execution_count": null,
   "metadata": {},
   "outputs": [],
   "source": [
    "! pip install mesa"
   ]
  },
  {
   "cell_type": "markdown",
   "metadata": {},
   "source": [
    "# Introduction\n",
    "The tutorial model is a very simple simulated agent-based economy, drawn from econophysics and presenting a statistical mechanics approach to wealth distribution. The rules of our tutorial model:\n",
    "\n",
    "1. There are some number of agents.\n",
    "1. All agents begin with 1 unit of money.\n",
    "1. At every step of the model, an agent gives 1 unit of money (if they have it) to some other agents.\n",
    "\n",
    "Ref: Dragulescu, Adrian A., and Victor M. Yakovenko. (2002). Statistical Mechanics of Money, Income and Wealth: A Short Survey.\" arXiv Preprint Cond-mat/0211175."
   ]
  },
  {
   "cell_type": "code",
   "execution_count": 11,
   "metadata": {},
   "outputs": [],
   "source": [
    "from mesa import Agent\n",
    "from mesa import Model\n",
    "from mesa.time import RandomActivation\n",
    "from mesa.space import MultiGrid #from mesa.space import SingleGrid #한 셀에 1개의 agent만 허용\n",
    "from mesa.datacollection import DataCollector\n",
    "import numpy as np\n",
    "import matplotlib.pyplot as plt\n",
    "\n",
    "def compute_gini(model):\n",
    "    agent_wealths=[agent.wealth for agent in model.schedule.agents]\n",
    "    x=sorted(agent_wealths)\n",
    "    N=model.num_agents\n",
    "    B=sum(xi*(N-i) for i,xi in enumerate(x))/(N*sum(x))\n",
    "    return (1+(1/N)-2*B)\n",
    "\n",
    "class MoneyAgent(Agent):\n",
    "    def __init__(self,unique_id,model):\n",
    "        super().__init__(unique_id,model)\n",
    "        self.wealth=1\n",
    "    def step(self):\n",
    "        self.move()\n",
    "        if self.wealth>0:\n",
    "            self.give_money()\n",
    "    def move(self): #grid가 있을 때\n",
    "        possible_steps=self.model.grid.get_neighborhood(\n",
    "            self.pos,\n",
    "            moore=True, #if False, Von Neumann(4 directions)\n",
    "            include_center=False) #not self included\n",
    "        new_position=self.random.choice(possible_steps) #one of neighbors\n",
    "        self.model.grid.move_agent(self,new_position) #reposition\n",
    "    def give_money(self):\n",
    "        cellmates=self.model.grid.get_cell_list_contents([self.pos,])\n",
    "        if len(cellmates) > 1:\n",
    "            other=self.random.choice(cellmates)\n",
    "            other.wealth+=1\n",
    "            self.wealth-=1\n",
    "class MoneyModel(Model):\n",
    "    def __init__(self,N,model_party,width,height): #width, height는 grid에 필요하기 때문\n",
    "        self.num_agents=N\n",
    "        self.schedule=RandomActivation(self)\n",
    "        self.grid=MultiGrid(width,height,True) #Always be toroidal? True\n",
    "        for i in range(N):\n",
    "            a=MoneyAgent(i,self)\n",
    "            self.schedule.add(a)\n",
    "            #add agent to cell\n",
    "            x=self.random.randrange(self.grid.width)\n",
    "            y=self.random.randrange(self.grid.height)\n",
    "            self.grid.place_agent(a,(x,y,)) #지정한 coordination에 배치하고 cell에도 할당.\n",
    "        self.datacollector=DataCollector(\n",
    "            model_reporters={\"Gini\":compute_gini},\n",
    "            agent_reporters={\"Wealth\":\"wealth\"})\n",
    "    def step(self):\n",
    "        self.datacollector.collect(self)\n",
    "        self.schedule.step()"
   ]
  },
  {
   "cell_type": "code",
   "execution_count": 23,
   "metadata": {},
   "outputs": [],
   "source": [
    "model=MoneyModel(50,10,10)\n",
    "for i in range(100):\n",
    "    model.step()"
   ]
  },
  {
   "cell_type": "code",
   "execution_count": 3,
   "metadata": {},
   "outputs": [],
   "source": [
    "%matplotlib inline"
   ]
  },
  {
   "cell_type": "code",
   "execution_count": 24,
   "metadata": {},
   "outputs": [
    {
     "data": {
      "image/png": "[encoded data removed]",
      "text/plain": [
       "<Figure size 432x288 with 2 Axes>"
      ]
     },
     "metadata": {
      "needs_background": "light"
     },
     "output_type": "display_data"
    }
   ],
   "source": [
    "agent_counts=np.zeros((model.grid.width,model.grid.height))\n",
    "for cell in model.grid.coord_iter():\n",
    "    cell_content,x,y=cell\n",
    "    agent_count=len(cell_content)\n",
    "    agent_counts[x][y]=agent_count\n",
    "plt.imshow(agent_counts,interpolation='nearest')\n",
    "plt.colorbar()\n",
    "plt.show()"
   ]
  },
  {
   "cell_type": "code",
   "execution_count": 25,
   "metadata": {},
   "outputs": [
    {
     "data": {
      "text/plain": [
       "<matplotlib.axes._subplots.AxesSubplot at 0x21ba8e37ba8>"
      ]
     },
     "execution_count": 25,
     "metadata": {},
     "output_type": "execute_result"
    },
    {
     "data": {
      "image/png": "[encoded data removed]",
      "text/plain": [
       "<Figure size 432x288 with 1 Axes>"
      ]
     },
     "metadata": {
      "needs_background": "light"
     },
     "output_type": "display_data"
    }
   ],
   "source": [
    "gini=model.datacollector.get_model_vars_dataframe()\n",
    "gini.plot()"
   ]
  },
  {
   "cell_type": "code",
   "execution_count": 27,
   "metadata": {},
   "outputs": [
    {
     "data": {
      "text/html": [
       "<div>\n",
       "<style scoped>\n",
       "    .dataframe tbody tr th:only-of-type {\n",
       "        vertical-align: middle;\n",
       "    }\n",
       "\n",
       "    .dataframe tbody tr th {\n",
       "        vertical-align: top;\n",
       "    }\n",
       "\n",
       "    .dataframe thead th {\n",
       "        text-align: right;\n",
       "    }\n",
       "</style>\n",
       "<table border=\"1\" class=\"dataframe\">\n",
       "  <thead>\n",
       "    <tr style=\"text-align: right;\">\n",
       "      <th></th>\n",
       "      <th></th>\n",
       "      <th>Wealth</th>\n",
       "    </tr>\n",
       "    <tr>\n",
       "      <th>Step</th>\n",
       "      <th>AgentID</th>\n",
       "      <th></th>\n",
       "    </tr>\n",
       "  </thead>\n",
       "  <tbody>\n",
       "    <tr>\n",
       "      <th rowspan=\"5\" valign=\"top\">99</th>\n",
       "      <th>45</th>\n",
       "      <td>1</td>\n",
       "    </tr>\n",
       "    <tr>\n",
       "      <th>46</th>\n",
       "      <td>0</td>\n",
       "    </tr>\n",
       "    <tr>\n",
       "      <th>47</th>\n",
       "      <td>0</td>\n",
       "    </tr>\n",
       "    <tr>\n",
       "      <th>48</th>\n",
       "      <td>0</td>\n",
       "    </tr>\n",
       "    <tr>\n",
       "      <th>49</th>\n",
       "      <td>4</td>\n",
       "    </tr>\n",
       "  </tbody>\n",
       "</table>\n",
       "</div>"
      ],
      "text/plain": [
       "              Wealth\n",
       "Step AgentID        \n",
       "99   45            1\n",
       "     46            0\n",
       "     47            0\n",
       "     48            0\n",
       "     49            4"
      ]
     },
     "execution_count": 27,
     "metadata": {},
     "output_type": "execute_result"
    }
   ],
   "source": [
    "agent_wealth=model.datacollector.get_agent_vars_dataframe()\n",
    "agent_wealth.tail()"
   ]
  },
  {
   "cell_type": "code",
   "execution_count": 28,
   "metadata": {},
   "outputs": [],
   "source": [
    "end_wealth=agent_wealth.xs(99,level='Step')['Wealth']"
   ]
  },
  {
   "cell_type": "code",
   "execution_count": 29,
   "metadata": {},
   "outputs": [
    {
     "data": {
      "text/plain": [
       "<matplotlib.axes._subplots.AxesSubplot at 0x21ba9e61d68>"
      ]
     },
     "execution_count": 29,
     "metadata": {},
     "output_type": "execute_result"
    },
    {
     "data": {
      "image/png": "[encoded data removed]",
      "text/plain": [
       "<Figure size 432x288 with 1 Axes>"
      ]
     },
     "metadata": {
      "needs_background": "light"
     },
     "output_type": "display_data"
    }
   ],
   "source": [
    "end_wealth.hist(bins=range(agent_wealth.Wealth.max()+1))"
   ]
  },
  {
   "cell_type": "code",
   "execution_count": 30,
   "metadata": {},
   "outputs": [
    {
     "data": {
      "text/plain": [
       "<matplotlib.axes._subplots.AxesSubplot at 0x21ba9e50748>"
      ]
     },
     "execution_count": 30,
     "metadata": {},
     "output_type": "execute_result"
    },
    {
     "data": {
      "image/png": "[encoded data removed]",
      "text/plain": [
       "<Figure size 432x288 with 1 Axes>"
      ]
     },
     "metadata": {
      "needs_background": "light"
     },
     "output_type": "display_data"
    }
   ],
   "source": [
    "one_agent_wealth=agent_wealth.xs(14,level='AgentID')\n",
    "one_agent_wealth.Wealth.plot()"
   ]
  },
  {
   "cell_type": "markdown",
   "metadata": {},
   "source": [
    "## Batch Run\n",
    "You usually won't run a model only once, but multiple times, with fixed parameters to find the overall distributions the model generates, and with varying parameters to analyze how they drive the model's outputs and behaviors. Instead of needing to write nested for-loops for each model, Mesa provides a BatchRunner class which automates it for you."
   ]
  },
  {
   "cell_type": "code",
   "execution_count": 31,
   "metadata": {},
   "outputs": [],
   "source": [
    "from mesa import Agent\n",
    "from mesa import Model\n",
    "from mesa.time import RandomActivation\n",
    "from mesa.space import MultiGrid #from mesa.space import SingleGrid #한 셀에 1개의 agent만 허용\n",
    "from mesa.datacollection import DataCollector\n",
    "from mesa.batchrunner import BatchRunner #배치처리.\n",
    "import numpy as np\n",
    "import matplotlib.pyplot as plt\n",
    "\n",
    "def compute_gini(model):\n",
    "    agent_wealths=[agent.wealth for agent in model.schedule.agents]\n",
    "    x=sorted(agent_wealths)\n",
    "    N=model.num_agents\n",
    "    B=sum(xi*(N-i) for i,xi in enumerate(x))/(N*sum(x))\n",
    "    return (1+(1/N)-2*B)\n",
    "\n",
    "class MoneyAgent(Agent):\n",
    "    def __init__(self,unique_id,model):\n",
    "        super().__init__(unique_id,model)\n",
    "        self.wealth=1\n",
    "    def step(self):\n",
    "        self.move()\n",
    "        if self.wealth>0:\n",
    "            self.give_money()\n",
    "    def move(self): #grid가 있을 때\n",
    "        possible_steps=self.model.grid.get_neighborhood(\n",
    "            self.pos,\n",
    "            moore=True, #if False, Von Neumann(4 directions)\n",
    "            include_center=False) #not self included\n",
    "        new_position=self.random.choice(possible_steps) #one of neighbors\n",
    "        self.model.grid.move_agent(self,new_position) #reposition\n",
    "    def give_money(self):\n",
    "        cellmates=self.model.grid.get_cell_list_contents([self.pos,])\n",
    "        if len(cellmates) > 1:\n",
    "            other=self.random.choice(cellmates)\n",
    "            other.wealth+=1\n",
    "            self.wealth-=1\n",
    "class MoneyModel(Model):\n",
    "    def __init__(self,N,width,height): #width, height는 grid에 필요하기 때문\n",
    "        self.num_agents=N\n",
    "        self.schedule=RandomActivation(self)\n",
    "        self.grid=MultiGrid(width,height,True) #Always be toroidal? True\n",
    "        self.running=True #Batch Model에서 필요하다.\n",
    "        for i in range(N):\n",
    "            a=MoneyAgent(i,self)\n",
    "            self.schedule.add(a)\n",
    "            #add agent to cell\n",
    "            x=self.random.randrange(self.grid.width)\n",
    "            y=self.random.randrange(self.grid.height)\n",
    "            self.grid.place_agent(a,(x,y,)) #지정한 coordination에 배치하고 cell에도 할당.\n",
    "        self.datacollector=DataCollector(\n",
    "            model_reporters={\"Gini\":compute_gini},\n",
    "            agent_reporters={\"Wealth\":\"wealth\"})\n",
    "    def step(self):\n",
    "        self.datacollector.collect(self)\n",
    "        self.schedule.step()"
   ]
  },
  {
   "cell_type": "code",
   "execution_count": 33,
   "metadata": {},
   "outputs": [
    {
     "name": "stderr",
     "output_type": "stream",
     "text": [
      "245it [05:27,  2.84s/it]\n"
     ]
    }
   ],
   "source": [
    "fixed_params={'width':10,'height':10}\n",
    "variable_params={'N':range(10,500,10)}\n",
    "batch_run=BatchRunner(\n",
    "    MoneyModel,\n",
    "    variable_params, #세팅의 수는 49개 range(10,500,10), 10에서 490까지\n",
    "    fixed_params,\n",
    "    iterations=5, #동일한 세팅을 몇 번 반복할까? 49*5=245회의 시뮬레이션 수행\n",
    "    max_steps=100,\n",
    "    model_reporters={'Gini':compute_gini}\n",
    ")\n",
    "batch_run.run_all()"
   ]
  },
  {
   "cell_type": "markdown",
   "metadata": {},
   "source": [
    "Notice that each row is a model run, and gives us the parameter values associated with that run. We can use this data to view a scatter-plot comparing the number of agents to the final Gini."
   ]
  },
  {
   "cell_type": "code",
   "execution_count": 34,
   "metadata": {},
   "outputs": [
    {
     "data": {
      "text/plain": [
       "<matplotlib.collections.PathCollection at 0x21ba7b06128>"
      ]
     },
     "execution_count": 34,
     "metadata": {},
     "output_type": "execute_result"
    },
    {
     "data": {
      "image/png": "[encoded data removed]",
      "text/plain": [
       "<Figure size 432x288 with 1 Axes>"
      ]
     },
     "metadata": {
      "needs_background": "light"
     },
     "output_type": "display_data"
    }
   ],
   "source": [
    "run_data=batch_run.get_model_vars_dataframe() #각각의 batch가 끝날 때 데이터 수집\n",
    "run_data.head()\n",
    "plt.scatter(run_data.N,run_data.Gini)"
   ]
  }
 ],
 "metadata": {
  "kernelspec": {
   "display_name": "Python 3",
   "language": "python",
   "name": "python3"
  },
  "language_info": {
   "codemirror_mode": {
    "name": "ipython",
    "version": 3
   },
   "file_extension": ".py",
   "mimetype": "text/x-python",
   "name": "python",
   "nbconvert_exporter": "python",
   "pygments_lexer": "ipython3",
   "version": "3.7.1"
  }
 },
 "nbformat": 4,
 "nbformat_minor": 2
}
