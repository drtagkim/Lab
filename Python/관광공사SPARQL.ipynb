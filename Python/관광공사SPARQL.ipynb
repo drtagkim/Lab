{
 "cells": [
  {
   "cell_type": "markdown",
   "metadata": {},
   "source": [
    "sparql-client 설치"
   ]
  },
  {
   "cell_type": "code",
   "execution_count": 6,
   "metadata": {},
   "outputs": [
    {
     "name": "stdout",
     "output_type": "stream",
     "text": [
      "Asturias\n",
      "منطقة أشتورية\n",
      "Astúries\n",
      "Asturie\n",
      "Asturien\n",
      "Αστούριες\n",
      "Asturio\n",
      "Asturias\n",
      "Asturiasko Printzerria\n",
      "Asturies\n",
      "Asturias\n",
      "Asturias\n",
      "アストゥリアス州\n",
      "Asturie\n",
      "아스투리아스 지방\n",
      "Asturië (regio)\n",
      "Asturia\n",
      "Astúrias\n",
      "Астурия\n",
      "Asturien\n",
      "Астурія\n",
      "阿斯图里亚斯\n"
     ]
    }
   ],
   "source": [
    "from SPARQLWrapper import SPARQLWrapper, JSON\n",
    "\n",
    "sparql = SPARQLWrapper(\"http://dbpedia.org/sparql\")\n",
    "sparql.setQuery(\"\"\"\n",
    "    PREFIX rdfs: <http://www.w3.org/2000/01/rdf-schema#>\n",
    "    SELECT ?label\n",
    "    WHERE { <http://dbpedia.org/resource/Asturias> rdfs:label ?label }\n",
    "\"\"\")\n",
    "sparql.setReturnFormat(JSON)\n",
    "results = sparql.query().convert()\n",
    "\n",
    "for result in results[\"results\"][\"bindings\"]:\n",
    "    print(result[\"label\"][\"value\"])"
   ]
  },
  {
   "cell_type": "code",
   "execution_count": 24,
   "metadata": {},
   "outputs": [],
   "source": [
    "class VisitKorea:\n",
    "    def __init__(self):\n",
    "        self.init_url=\"http://data.visitkorea.or.kr/sparql\"\n",
    "        self.sq=SPARQLWrapper(self.init_url)\n",
    "        self.prefix=\"\"\"PREFIX skos: <http://www.w3.org/2004/02/skos/core#>\n",
    "PREFIX rdf: <http://www.w3.org/1999/02/22-rdf-syntax-ns#>\n",
    "PREFIX rdfs: <http://www.w3.org/2000/01/rdf-schema#>\n",
    "PREFIX dc: <http://purl.org/dc/elements/1.1/>\n",
    "PREFIX owl: <http://www.w3.org/2002/07/owl#>\n",
    "PREFIX xsd: <http://www.w3.org/2001/XMLSchema#>\n",
    "PREFIX vi: <http://www.saltlux.com/transformer/views#>\n",
    "PREFIX kto: <http://data.visitkorea.or.kr/ontology/>\n",
    "PREFIX ktop: <http://data.visitkorea.or.kr/property/>\n",
    "PREFIX ids: <http://data.visitkorea.or.kr/resource/>\n",
    "PREFIX wgs: <http://www.w3.org/2003/01/geo/wgs84_pos#>\n",
    "PREFIX foaf: <http://xmlns.com/foaf/0.1/>\n",
    "PREFIX geo: <http://www.saltlux.com/geo/property#>\n",
    "PREFIX pf: <http://www.saltlux.com/DARQ/property#> \n",
    "\"\"\"\n",
    "    def query(self,q):\n",
    "        q=self.prefix+q\n",
    "        sparql=self.sq\n",
    "        sparql.setQuery(q)\n",
    "        sparql.setReturnFormat(JSON)\n",
    "        results = sparql.query().convert()\n",
    "        return results[\"results\"][\"bindings\"]"
   ]
  },
  {
   "cell_type": "code",
   "execution_count": 49,
   "metadata": {},
   "outputs": [],
   "source": [
    "q1=\"\"\"\n",
    "SELECT * \n",
    "WHERE {\n",
    " ?resource a kto:Place ;\n",
    "      wgs:lat ?lat1 ;\n",
    "      wgs:long ?long ;\n",
    "      rdfs:label ?name .\n",
    " FILTER contains(str(?name),'일민미술관')\n",
    " \n",
    "} limit 10\n",
    "\"\"\""
   ]
  },
  {
   "cell_type": "code",
   "execution_count": 50,
   "metadata": {},
   "outputs": [],
   "source": [
    "client=VisitKorea()"
   ]
  },
  {
   "cell_type": "code",
   "execution_count": 51,
   "metadata": {},
   "outputs": [],
   "source": [
    "results=client.query(q1)"
   ]
  },
  {
   "cell_type": "code",
   "execution_count": 52,
   "metadata": {},
   "outputs": [
    {
     "data": {
      "text/plain": [
       "[{'resource': {'type': 'uri',\n",
       "   'value': 'http://data.visitkorea.or.kr/resource/130227'},\n",
       "  'lat1': {'datatype': 'http://www.w3.org/2001/XMLSchema#double',\n",
       "   'type': 'typed-literal',\n",
       "   'value': '37.5698760651'},\n",
       "  'long': {'datatype': 'http://www.w3.org/2001/XMLSchema#double',\n",
       "   'type': 'typed-literal',\n",
       "   'value': '126.9776487818'},\n",
       "  'name': {'type': 'literal', 'xml:lang': 'ko', 'value': '일민미술관'}}]"
      ]
     },
     "execution_count": 52,
     "metadata": {},
     "output_type": "execute_result"
    }
   ],
   "source": [
    "results"
   ]
  },
  {
   "cell_type": "code",
   "execution_count": 28,
   "metadata": {},
   "outputs": [
    {
     "name": "stdout",
     "output_type": "stream",
     "text": [
      "http://data.visitkorea.or.kr/resource/129490 응봉산(울진)\n",
      "http://data.visitkorea.or.kr/resource/130771 서울특별시교육청 구로도서관\n",
      "http://data.visitkorea.or.kr/resource/130227 일민미술관\n",
      "http://data.visitkorea.or.kr/resource/130448 서대문자연사박물관\n",
      "http://data.visitkorea.or.kr/resource/125596 백덕산(평창)\n",
      "http://data.visitkorea.or.kr/resource/130494 이중섭 미술관\n",
      "http://data.visitkorea.or.kr/resource/130416 사비나미술관\n",
      "http://data.visitkorea.or.kr/resource/1912356 양산시립박물관\n",
      "http://data.visitkorea.or.kr/resource/126294 야미도\n",
      "http://data.visitkorea.or.kr/resource/126041 황매산(산청)\n"
     ]
    }
   ],
   "source": [
    "for r in results:\n",
    "    print(r['resource']['value'],r['name']['value'])"
   ]
  },
  {
   "cell_type": "markdown",
   "metadata": {},
   "source": [
    "<http://data.visitkorea.or.kr/resource/A05020100>는 식당유형이 한식입니다.\n"
   ]
  },
  {
   "cell_type": "code",
   "execution_count": 88,
   "metadata": {},
   "outputs": [],
   "source": [
    "q2=\"\"\"\n",
    "SELECT *\n",
    "WHERE {\n",
    "    ?resource a kto:Place;\n",
    "              rdfs:label ?name .\n",
    "    FILTER regex(?name,'^%s') .\n",
    "} limit 2\n",
    "\"\"\""
   ]
  },
  {
   "cell_type": "code",
   "execution_count": 67,
   "metadata": {},
   "outputs": [],
   "source": [
    "import re"
   ]
  },
  {
   "cell_type": "code",
   "execution_count": 72,
   "metadata": {},
   "outputs": [],
   "source": [
    "def get_id(x):\n",
    "    p=re.compile('[0-9]+$')\n",
    "    o=p.findall(x)\n",
    "    if len(o)>0:\n",
    "        return o[0]\n",
    "    pass"
   ]
  },
  {
   "cell_type": "code",
   "execution_count": 89,
   "metadata": {
    "scrolled": true
   },
   "outputs": [
    {
     "name": "stdout",
     "output_type": "stream",
     "text": [
      "729811 \t 경복궁\n",
      "126508 \t 경복궁\n"
     ]
    }
   ],
   "source": [
    "results=client.query(q2%(\"경복궁\",))\n",
    "for r in results:\n",
    "    id=get_id(r['resource']['value'])\n",
    "    n=r['name']['value']\n",
    "    print(id,'\\t',n)"
   ]
  },
  {
   "cell_type": "code",
   "execution_count": 96,
   "metadata": {},
   "outputs": [],
   "source": [
    "q3=\"\"\"\n",
    "SELECT ?name ?near_name ?distance \n",
    "WHERE {\n",
    " ids:%d wgs:lat ?lat1 ;\n",
    "           wgs:long ?long1 ;\n",
    "           rdfs:label ?name . \n",
    " (?near ?distance) geo:nearby(?lat1 ?long1 \"1600\") .\n",
    " ?near rdfs:label ?near_name ;\n",
    "       ktop:category ids:A05020100 . \n",
    "} limit 5\n",
    "\"\"\""
   ]
  },
  {
   "cell_type": "code",
   "execution_count": 97,
   "metadata": {},
   "outputs": [
    {
     "name": "stdout",
     "output_type": "stream",
     "text": [
      "경복궁\t장터\t511.29956\n",
      "경복궁\t담양숯불갈비\t872.8764\n",
      "경복궁\t경복궁\t0.0\n",
      "경복궁\t황금어장\t314.0314\n",
      "경복궁\t사계절복집\t430.1987\n"
     ]
    }
   ],
   "source": [
    "results=client.query(q3%(729811,))\n",
    "for r in results:\n",
    "    name=r['name']['value']\n",
    "    near_name=r['near_name']['value']\n",
    "    distance=r['distance']['value']\n",
    "    print(\"%s\\t%s\\t%s\"%(name,near_name,distance))"
   ]
  }
 ],
 "metadata": {
  "kernelspec": {
   "display_name": "Python 3",
   "language": "python",
   "name": "python3"
  },
  "language_info": {
   "codemirror_mode": {
    "name": "ipython",
    "version": 3
   },
   "file_extension": ".py",
   "mimetype": "text/x-python",
   "name": "python",
   "nbconvert_exporter": "python",
   "pygments_lexer": "ipython3",
   "version": "3.7.6"
  }
 },
 "nbformat": 4,
 "nbformat_minor": 4
}
