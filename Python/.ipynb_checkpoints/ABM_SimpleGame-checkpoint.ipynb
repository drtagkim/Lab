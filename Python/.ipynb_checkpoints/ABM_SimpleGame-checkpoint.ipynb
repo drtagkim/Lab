{
 "cells": [
  {
   "cell_type": "markdown",
   "metadata": {},
   "source": [
    "# 게임 산업 영향 시뮬레이션\n",
    "## 개요\n",
    "* 2020년 12월 - 2021년 2월\n",
    "* 김태경, 광운대학교 경영학부 부교수\n",
    "* 게임산업 영향 시뮬레이션\n",
    "* 간소화 버전"
   ]
  },
  {
   "cell_type": "markdown",
   "metadata": {},
   "source": [
    "## 코드\n",
    "\n",
    "### 모듈"
   ]
  },
  {
   "cell_type": "code",
   "execution_count": 70,
   "metadata": {},
   "outputs": [],
   "source": [
    "import random\n",
    "\n",
    "import mesa\n",
    "from mesa import Agent,Model\n",
    "from mesa.space import MultiGrid\n",
    "from mesa.time import RandomActivation\n",
    "from mesa.datacollection import DataCollector\n",
    "\n",
    "import numpy as np\n",
    "import pandas as pd\n",
    "import matplotlib.pyplot as plt"
   ]
  },
  {
   "cell_type": "markdown",
   "metadata": {},
   "source": [
    "### 전역 파라미터"
   ]
  },
  {
   "cell_type": "markdown",
   "metadata": {},
   "source": [
    "질병코드가 도입된다. 영향은 뭘까?\n",
    "\n",
    "1. **게임 인식 악화** 게임에 대한 인식 악화, 단순히 게임을 피하게 될 것.\n",
    "1. **게임 행위 제제** 외력에 의한 게임 사용 제제가 강제될 수 있을 것.\n",
    "1. **게임세 도입** 질병 치유를 위한 목적으로 게임세를 내야 할 수도\n",
    "\n",
    "세팅\n",
    "1. **게임 인식 악화** -> 게임을 하기 위한 toss 확률 변화\n",
    "1. **행위 제제** -> INSPECTION 상승\n",
    "1. **게임세 도입** -> TAX 부과로 spending 상각"
   ]
  },
  {
   "cell_type": "code",
   "execution_count": 237,
   "metadata": {},
   "outputs": [],
   "source": [
    "ISOLATION_DURATION=7 #isolated for a week\n",
    "TICKET_REGEN_MAX=8 #regenerating tickets\n",
    "TICKET_REGEN_TICK=2 #ticket regen ticks\n",
    "TICKET_PURCHASE_P=0.01\n",
    "SEARCH_SPACE_X=10\n",
    "SEARCH_SPACE_Y=10\n",
    "NUM_PLAYERS=1000\n",
    "NUM_GAME_TIME=365*5 #five years\n",
    "FLOW_THRESHOLD=365*1 #one year experience\n",
    "FLOW_P=0.02 #probability of getting in flow\n",
    "INITIAL_FLOW=0.02 #2 percent\n",
    "CURE_DURATION=7\n",
    "LOSS_EXP=CURE_DURATION*4\n",
    "GAME_FUN_LOSS=0.0001\n",
    "SPENDING_UNIT=10000"
   ]
  },
  {
   "cell_type": "markdown",
   "metadata": {},
   "source": [
    "질병코드 도입=1, 도입 안함=0 컨트롤"
   ]
  },
  {
   "cell_type": "code",
   "execution_count": 231,
   "metadata": {},
   "outputs": [],
   "source": [
    "TRT_PERCEPTION=0 #1=인식 악화, 0=없음\n",
    "TRT_FORCE=0 #1=행위 제제, 0=없음\n",
    "TRT_TAX=0 #1=게임세 도입\n",
    "\n",
    "GAMING_P=0.5 #gaming intention 1/2\n",
    "INSPECTION=0.1 #inspection rate 10% up\n",
    "SPENDING_DESC=(1-0.74) #담배 세금은 전체의 74%"
   ]
  },
  {
   "cell_type": "markdown",
   "metadata": {},
   "source": [
    "### 유틸리티 함수"
   ]
  },
  {
   "cell_type": "code",
   "execution_count": 232,
   "metadata": {},
   "outputs": [],
   "source": [
    "## 게임 그룹을 생성\n",
    "# P2pGame\n",
    "\n",
    "def make_group(inlist,size):\n",
    "    items=inlist[:]\n",
    "    random.shuffle(items) #item shuffle\n",
    "    gid=1\n",
    "    result={}\n",
    "    while len(items)>0:\n",
    "        r=[]\n",
    "        for _ in range(size):\n",
    "            try:\n",
    "                r.append(items.pop(0))\n",
    "            except:\n",
    "                break\n",
    "        if len(r)>0:\n",
    "            result[gid]=r\n",
    "            gid+=1\n",
    "    return result"
   ]
  },
  {
   "cell_type": "markdown",
   "metadata": {},
   "source": [
    "## 게임 사용자"
   ]
  },
  {
   "cell_type": "code",
   "execution_count": 233,
   "metadata": {},
   "outputs": [],
   "source": [
    "class Gamer(Agent):\n",
    "    def __init__(self,unique_id,model,moore=True):\n",
    "        super().__init__(unique_id,model)\n",
    "        self.moore=moore\n",
    "        self.model=model\n",
    "        self.flow=0 #1=flow, 0=not flow\n",
    "        self.spending=0 #game spending\n",
    "        self.active=1 #active gamer\n",
    "        #Global -----------------------------------\n",
    "        self.exp=0 #game experience\n",
    "        #parameter for P2M ------------------------\n",
    "        self.ticket=0 #game ticket,(P2m)\n",
    "        self.ticket_regen_time=TICKET_REGEN_TICK\n",
    "        #parameter for P2P ------------------------\n",
    "        self.isolated=0 #\n",
    "        self.isolated_duration=0\n",
    "\n",
    "# = 게이머의 행동 결정 프로세스\n",
    "    def step(self):\n",
    "        self.reset_spending() #현재 시점의 spending reset\n",
    "        if self.check_game_continue(): #게임에 대한 흥미를 잃었나? 확인\n",
    "            return #흥미를 잃었다면 그만둔다.\n",
    "        if isinstance(self.model,P2mGame): #2PmGame의 경우\n",
    "            self.ticket_regen_time-=1 #게임 접속 무료티켓 1개 감소(게임 접속)\n",
    "            if TRT_PERCEPTION==0 or self.model.toss(GAMING_P): #부정적 인식 없거나, 있으면 게임 참여를 위해 주사위 던지기\n",
    "                if self.recover(): #격리가 없을 경우\n",
    "                    self.play_game()  #게임 플레이\n",
    "                    self.get_free_ticket() #무료 티켓을 다시 받는다.\n",
    "        else:\n",
    "            pass #human to human 게임의 경우, 아이템 소비가 추가로 일어날 수 있다. //TODO - 회의 이후 결과 반영할 것\n",
    "        self.be_loyal_player() #게임 사용자의 involvement (addiction or flow) 결정\n",
    "# == 게임을 계속할 의사가 있을까 결정\n",
    "    def check_game_continue(self):\n",
    "        if self.model.toss(self.model.fun_loss()): #비선형 fun_loss()함수 소환 -> 게임 출시 시간에 따라 흥미 결정\n",
    "            self.active=1 #흥미의 결정 확률은 비선형적으로 줄어든다. 흥미가 있으면 active=1\n",
    "        else:\n",
    "            self.active=0 #흥미를 잃었다.\n",
    "        return self.active==0 #게임에 흥미를 잃었나? True, False\n",
    "# == 당기의 지출액 리셋\n",
    "    def reset_spending(self):\n",
    "        self.spending=0\n",
    "    def contribution_game_company(self):\n",
    "        #SPENDING_UNIT은 1회 지출규모(단위 금액 - 시뮬레이션에 오해가 많아서 단위 조정을 해야 할 듯.\n",
    "        #SPENDING_DESC는 0과 1사이. 게임회사가 정액 세율을 x 이면 (1-x)가 SPENDING_DESC\n",
    "        return SPENDING_UNIT*(SPENDING_DESC if TRT_TAX else 1)\n",
    "# == 게임 플레이\n",
    "    def play_game(self):\n",
    "        if self.ticket > 0: #플레이 티켓이 있을 경우\n",
    "            self.ticket-=1 #티켓을 주고 플레이\n",
    "            self.exp+=1 #경험치가 쌓인다. 경험치는 flow 결정에 장기적 영향\n",
    "        else: #티켓이 모두 소진되었다면?\n",
    "            if self.flow: #flow상태인가?\n",
    "                self.spending=self.contribution_game_company() #구매 결정이 게임사에 주는 이익\n",
    "            else: #flow상태가 아니다.\n",
    "                if self.model.toss(TICKET_PURCHASE_P): #티켓 구매 의사결정의 확률(유료 아이템 구매 확률)\n",
    "                    self.spending=self.contribution_game_company() #구매 결정이 게임사에 주는 이익\n",
    "# == 무료 게임 티켓을 받기\n",
    "    def get_free_ticket(self):\n",
    "        if self.ticket_regen_time<=0: #티켓 무료 배포기간이 지났다면\n",
    "            self.refresh() #게임 상태 리프레쉬!\n",
    "# == 로열 플레이어(flow) 탄생시키기\n",
    "    def be_loyal_player(self):\n",
    "        if self.recover(): #강제 격리가 없을 경우\n",
    "            if self.exp >= FLOW_THRESHOLD: #흥미 기준은 경험치\n",
    "                if self.model.toss(FLOW_P): #주사위를 던져 의사결정을 한다.\n",
    "                    self.flow=1 #과몰입 상태(티켓이 필요하면 사고, 아이템은 따라 구매한다)\n",
    "        def recover(self): #강제 격리가 있을 경우\n",
    "        if self.isolated:\n",
    "            if self.isolated_duration<=0:\n",
    "                self.isolated=0\n",
    "                self.isolated_duration=0\n",
    "                self.refresh()\n",
    "                return True\n",
    "            else:\n",
    "                self.isolated_duration-=1\n",
    "            return False\n",
    "        return True\n",
    "# == 게임 과몰입으로 격리 조치될 경우(게임 질병 코드 부여시)\n",
    "    def isolate(self):\n",
    "        self.flow=0 #과몰입 해제\n",
    "        self.isolated=1 #격리 마크(낙인)\n",
    "        self.ticket=0 #참가 티켓 몰수\n",
    "        self.isolated_duration=CURE_DURATION #치료 기간만큼 격리 기간 설정(매 기간 -1씩)\n",
    "        self.exp-=LOSS_EXP #경험치 일몰\n",
    "        #경험치 일몰은 최대 exp=0까지만 허용\n",
    "        if self.exp<0:\n",
    "            self.exp=0\n",
    "# == 과몰입 치료(게임 질병 코드 부여시)\n",
    "    def cure(self):\n",
    "        self.isolated-=1 #치료\n",
    "# == 티켓 리프레쉬\n",
    "    def refresh(self):\n",
    "        #TODO - 게임 티켓 리젠 결정을 좀더 봐야\n",
    "        self.ticket=self.random.choice(list(range(1,TICKET_REGEN_MAX)))\n",
    "        self.ticket_regen_time=TICKET_REGEN_TICK"
   ]
  },
  {
   "cell_type": "markdown",
   "metadata": {},
   "source": [
    "## 게임"
   ]
  },
  {
   "cell_type": "code",
   "execution_count": 234,
   "metadata": {},
   "outputs": [],
   "source": [
    "class P2mGame(Model):\n",
    "    def __init__(self,N,width,height):\n",
    "        self.tick=0\n",
    "        self.num_agents=N\n",
    "        self.population=[] #population\n",
    "        self.schedule=RandomActivation(self) #creating time\n",
    "        self.grid=MultiGrid(width,height,True) #creating space\n",
    "        self.join_game()\n",
    "        self.register_data_collector()\n",
    "    def toss(self,p=0.5): #stochastic\n",
    "        return self.random.random() <= p\n",
    "    def hatch(self,unique_id):\n",
    "        gamer=Gamer(unique_id,self)\n",
    "        ## ===== DESIGN INIT =======\n",
    "        if self.toss(p=INITIAL_FLOW): #2 percent flow\n",
    "            gamer.flow=1\n",
    "        gamer.ticket=self.random.choice(list(range(1,TICKET_REGEN_MAX)))\n",
    "        ## =========================\n",
    "        self.schedule.add(gamer) #time\n",
    "        self.population.append(unique_id) #register a person\n",
    "        x=self.random.randrange(self.grid.width) #int\n",
    "        y=self.random.randrange(self.grid.height) #int\n",
    "        self.grid.place_agent(gamer,(x,y,)) #positioning for further inspection\n",
    "    def join_game(self):\n",
    "        N=self.num_agents\n",
    "        for i in range(N):\n",
    "            self.hatch(i) #create \n",
    "    def register_data_collector(self):\n",
    "        self.datacollector=DataCollector(\n",
    "            agent_reporters={\"Spending\":\"spending\",\"Flow\":\"flow\"}\n",
    "        )\n",
    "    def fun_loss(self):\n",
    "        tick=self.tick\n",
    "        p=tick/NUM_GAME_TIME\n",
    "        if p<0.1:\n",
    "            return 1\n",
    "        elif p>=0.1 and p<0.2:\n",
    "            return -1*p+1.1\n",
    "        elif p>=0.2 and p<0.4:\n",
    "            return -3*p+1.5\n",
    "        elif p>=0.4 and p<0.6:\n",
    "            return -1.5*p+0.9\n",
    "        else:\n",
    "            return 0\n",
    "    def inspect(self):\n",
    "        for cell in self.grid.coord_iter(): #visit places\n",
    "            if self.toss(INSPECTION): #inspection success rate\n",
    "                content,x,y=cell\n",
    "                for gamer in content:\n",
    "                    if gamer.flow:\n",
    "                        gamer.isolate()\n",
    "    def step(self,i):\n",
    "        self.tick=i\n",
    "        self.datacollector.collect(self)\n",
    "        self.schedule.step()\n",
    "        if TRT_FORCE:\n",
    "            self.inspect()"
   ]
  },
  {
   "cell_type": "code",
   "execution_count": 235,
   "metadata": {},
   "outputs": [],
   "source": [
    "class P2PGame(P2mGame):\n",
    "    def __init__(self,N,width,height=1,group_size=10,spending_size=5):\n",
    "        super().__init__(N,width,height=1)\n",
    "        self.group_size=group_size\n",
    "        self.join_group() #make groups\n",
    "    def join_group(self):\n",
    "        self.groups=make_group(self.schedule.agents,self.group_size)\n",
    "    def join_game(self):\n",
    "        N=self.num_agents\n",
    "        for i in range(N):\n",
    "            self.hatch(i) #create\n",
    "    def inspect(self):\n",
    "        for cell in self.grid.coord_iter():\n",
    "            if self.toss(INSPECTION):\n",
    "                content,x,y=cell\n",
    "                for gamer in content:\n",
    "                    if gamer.flow:\n",
    "                        gamer.isolate()\n",
    "    def step(self,i):\n",
    "        self.tick=i\n",
    "        self.datacollector.collect(self)\n",
    "        #self.schedule.step()\n",
    "        for k,v in self.groups.items():\n",
    "            gamers=[gamer for gamer in v if gamer.active==1]\n",
    "            if len(gamers)>0:\n",
    "                notavailable=[gamer for gamer in gamers if gamer.isolated>0]\n",
    "                if len(notavailable)>0: #anyone lock down?\n",
    "                    for isolated_gamer in notavailable:\n",
    "                        isolated_gamer.cure()\n",
    "                        if isolated_gamer.isolated_duration <=0:\n",
    "                            isolated_gamer.isolated=0\n",
    "                else:\n",
    "                  for gamer in gamers:\n",
    "                        gamer.exp+=1 #exprienced\n",
    "                        if gamer.flow:\n",
    "                            gamer.spending+=SPENDING_DESC if TRT_TAX else 1\n",
    "                        else:\n",
    "                            if self.toss(0.01):\n",
    "                                gamer.spending+=SPENDING_DESC if TRT_TAX else 1\n",
    "        self.schedule.step()\n",
    "        if TRT_FORCE:\n",
    "            self.inspect()\n",
    "        "
   ]
  },
  {
   "cell_type": "markdown",
   "metadata": {},
   "source": [
    "## Simulation"
   ]
  },
  {
   "cell_type": "code",
   "execution_count": 238,
   "metadata": {
    "scrolled": true
   },
   "outputs": [
    {
     "data": {
      "text/plain": [
       "<AxesSubplot:xlabel='Step'>"
      ]
     },
     "execution_count": 238,
     "metadata": {},
     "output_type": "execute_result"
    },
    {
     "data": {
      "image/png": "[encoded data removed]",
      "text/plain": [
       "<Figure size 432x288 with 1 Axes>"
      ]
     },
     "metadata": {
      "needs_background": "light"
     },
     "output_type": "display_data"
    }
   ],
   "source": [
    "TRT_PERCEPTION=0 #1=인식 악화, 0=없음\n",
    "TRT_FORCE=0 #1=행위 제제, 0=없음\n",
    "TRT_TAX=0 #1=게임세 도입\n",
    "m=P2mGame(NUM_PLAYERS,SEARCH_SPACE_X,SEARCH_SPACE_Y)\n",
    "for i in range(NUM_GAME_TIME):\n",
    "    m.step(i)\n",
    "p=m.datacollector.get_agent_vars_dataframe()\n",
    "p.groupby('Step')['Spending'].mean().plot()"
   ]
  },
  {
   "cell_type": "code",
   "execution_count": 239,
   "metadata": {
    "scrolled": false
   },
   "outputs": [
    {
     "data": {
      "text/plain": [
       "<AxesSubplot:xlabel='Step'>"
      ]
     },
     "execution_count": 239,
     "metadata": {},
     "output_type": "execute_result"
    },
    {
     "data": {
      "image/png": "[encoded data removed]",
      "text/plain": [
       "<Figure size 432x288 with 1 Axes>"
      ]
     },
     "metadata": {
      "needs_background": "light"
     },
     "output_type": "display_data"
    }
   ],
   "source": [
    "TRT_PERCEPTION=1 #1=인식 악화, 0=없음\n",
    "TRT_FORCE=0 #1=행위 제제, 0=없음\n",
    "TRT_TAX=0 #1=게임세 도입\n",
    "m=P2mGame(NUM_PLAYERS,SEARCH_SPACE_X,SEARCH_SPACE_Y)\n",
    "for i in range(NUM_GAME_TIME):\n",
    "    m.step(i)\n",
    "p=m.datacollector.get_agent_vars_dataframe()\n",
    "p.groupby('Step')['Spending'].mean().plot()"
   ]
  },
  {
   "cell_type": "code",
   "execution_count": 240,
   "metadata": {
    "scrolled": true
   },
   "outputs": [
    {
     "data": {
      "text/plain": [
       "<AxesSubplot:xlabel='Step'>"
      ]
     },
     "execution_count": 240,
     "metadata": {},
     "output_type": "execute_result"
    },
    {
     "data": {
      "image/png": "[encoded data removed]",
      "text/plain": [
       "<Figure size 432x288 with 1 Axes>"
      ]
     },
     "metadata": {
      "needs_background": "light"
     },
     "output_type": "display_data"
    }
   ],
   "source": [
    "TRT_PERCEPTION=0 #1=인식 악화, 0=없음\n",
    "TRT_FORCE=1 #1=행위 제제, 0=없음\n",
    "TRT_TAX=0 #1=게임세 도입\n",
    "m=P2mGame(NUM_PLAYERS,SEARCH_SPACE_X,SEARCH_SPACE_Y)\n",
    "for i in range(NUM_GAME_TIME):\n",
    "    m.step(i)\n",
    "p=m.datacollector.get_agent_vars_dataframe()\n",
    "p.groupby('Step')['Spending'].mean().plot()"
   ]
  },
  {
   "cell_type": "code",
   "execution_count": 241,
   "metadata": {
    "scrolled": true
   },
   "outputs": [
    {
     "data": {
      "text/plain": [
       "<AxesSubplot:xlabel='Step'>"
      ]
     },
     "execution_count": 241,
     "metadata": {},
     "output_type": "execute_result"
    },
    {
     "data": {
      "image/png": "[encoded data removed]",
      "text/plain": [
       "<Figure size 432x288 with 1 Axes>"
      ]
     },
     "metadata": {
      "needs_background": "light"
     },
     "output_type": "display_data"
    }
   ],
   "source": [
    "TRT_PERCEPTION=0 #1=인식 악화, 0=없음\n",
    "TRT_FORCE=0 #1=행위 제제, 0=없음\n",
    "TRT_TAX=1 #1=게임세 도입\n",
    "m=P2mGame(NUM_PLAYERS,SEARCH_SPACE_X,SEARCH_SPACE_Y)\n",
    "for i in range(NUM_GAME_TIME):\n",
    "    m.step(i)\n",
    "p=m.datacollector.get_agent_vars_dataframe()\n",
    "p.groupby('Step')['Spending'].mean().plot()"
   ]
  },
  {
   "cell_type": "code",
   "execution_count": null,
   "metadata": {},
   "outputs": [],
   "source": []
  }
 ],
 "metadata": {
  "kernelspec": {
   "display_name": "Python 3",
   "language": "python",
   "name": "python3"
  },
  "language_info": {
   "codemirror_mode": {
    "name": "ipython",
    "version": 3
   },
   "file_extension": ".py",
   "mimetype": "text/x-python",
   "name": "python",
   "nbconvert_exporter": "python",
   "pygments_lexer": "ipython3",
   "version": "3.8.5"
  }
 },
 "nbformat": 4,
 "nbformat_minor": 4
}
