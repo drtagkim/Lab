{
 "cells": [
  {
   "cell_type": "markdown",
   "metadata": {},
   "source": [
    "스위스 제네바에서 열린 제 72차 세계보건기구(World Health Organization, WHO) 총회의 국제질병분류 11차 개정판인 ICD-11.\n",
    "게임이용 장애는 이 ICD-11에 질병코드 '6C51'로 등록되어 있으며, 6C51에서는 '개인, 가족 사회, 교육, 직업 또는 기타 중요한 기능 영역에서 심각한 장애를 초래할 정도로 심각하고, 이러한 게임 행동 양식이 최소 12개월 동안 분명하게 나타나는 경우'로 게임 질병을 정의하고 있다.\n",
    "WHO는 현재 194개의 회원국들에게 2022년 1월부터 효력이 발생하도록 하고 있지만, 한국은 이 ICD-11를 그대로 적용하지 않고 KCD(Korean Standard Classification of Diseases, 한국표준질병)라는 독자 기준에 따라 적용 여부를 정하고 있다.\n",
    "이 KCD는 5년에 한 번씩 개정되며, WHO의 코드 발효가 오는 2022년이기 때문에 국내는 3년 뒤인 2025년에 적용될 것으로 예측된다. 그동안 단 한 번도 특정 질병 코드가 적용되지 않은 사례가 없었고, 보건복지부 측에서도 이미 이 코드를 받아들이겠다는 입장을 밝힌만큼 2025년에는 정식으로 KCD에 게임이용 장애가 등록될 것으로 예측되고 있다.\n",
    "국내 질병코드 등재 후 가장 사회적으로 이슈가 될 사항은 바로 '게임세'다. 게임이 '사회에 해악이 되는 질병'으로 규정된 만큼 합당한 부담금을 부과해야한다는 논리다.\n",
    "연간 순매출액의 0.5% 이하 범위에서 부담금을 부과·징수할 수 있다고 되어있다.\n",
    "\n"
   ]
  },
  {
   "cell_type": "code",
   "execution_count": 4,
   "metadata": {},
   "outputs": [],
   "source": [
    "from mesa import Agent\n",
    "from mesa import Model\n",
    "from mesa.time import RandomActivation\n",
    "from mesa.space import MultiGrid\n",
    "from mesa.datacollection import DataCollector\n",
    "import numpy as np\n",
    "import matplotlib.pyplot as plt "
   ]
  },
  {
   "cell_type": "code",
   "execution_count": 5,
   "metadata": {},
   "outputs": [],
   "source": [
    "def compute_gini(model):\n",
    "    agent_wealths=[agent.wealth for agent in model.schedule.agents]\n",
    "    x=sorted(agent_wealths)\n",
    "    N=model.num_agents\n",
    "    B=sum(xi*(N-i) for i,xi in enumerate(x))/(N*sum(x))\n",
    "    return (1+(1/N)-2*B)"
   ]
  },
  {
   "cell_type": "code",
   "execution_count": 27,
   "metadata": {},
   "outputs": [],
   "source": [
    "def compute_paid(model):\n",
    "    agent_paid=[agent.paid for agent in model.schedule.agents]\n",
    "    return sum(agent_paid)"
   ]
  },
  {
   "cell_type": "markdown",
   "metadata": {},
   "source": [
    "# Gamer\n",
    "게임을 하는 사람을 Gamer라고 한다.\n",
    "Gamer는 다음과 같은 특징을 가진다.\n",
    "\n",
    "|특성|변수|설명|\n",
    "|----|-----|-----|\n",
    "|게임 몰입도|involvement|Game에 몰입하는 정도, 기본은 1|\n",
    "|자산|wealth|Game에 지출할 수 있는 총 재산, 기본은 100|\n",
    "|시간|tick|게임 시계, 30일마다 reset|\n",
    "|지불|paid|Game에 지출한 재산(누적)|\n",
    "\n",
    "게임을 하면 몰입도가 증가하고, 게임을 하지 않으면 몰입도가 감소된다.\n",
    "\n",
    "질병코드가 도입되면 게임비용이 증가한다. (사회적 비용 증가)\n",
    "\n"
   ]
  },
  {
   "cell_type": "code",
   "execution_count": 57,
   "metadata": {},
   "outputs": [],
   "source": [
    "WEALTH_UPPER=30 #게임에 들이는 총 재산 상한선"
   ]
  },
  {
   "cell_type": "code",
   "execution_count": 58,
   "metadata": {},
   "outputs": [],
   "source": [
    "class Gamer(Agent):\n",
    "    def __init__(self,unique_id,model):\n",
    "        super().__init__(unique_id,model)\n",
    "        self.involvement=1\n",
    "        self.wealth=WEALTH_UPPER\n",
    "        self.tick=0\n",
    "        self.paid=0\n",
    "        #members\n",
    "    def step(self):\n",
    "        self.tick+=1 #tick up\n",
    "        self.money_fill()\n",
    "        self.move()\n",
    "        if self.wealth > 0:\n",
    "            self.play_game()\n",
    "    def money_fill(self):\n",
    "        if self.tick >= 30:\n",
    "            self.wealth+=self.model.money_refill\n",
    "            if self.wealth >= WEALTH_UPPER:\n",
    "                self.wealth=WEALTH_UPPER\n",
    "            self.tick=0\n",
    "    def move(self):\n",
    "        possible_steps=self.model.grid.get_neighborhood(\n",
    "            self.pos,\n",
    "            moore=True,\n",
    "            include_center=False\n",
    "        )\n",
    "        new_position=self.random.choice(possible_steps)\n",
    "        self.model.grid.move_agent(self,new_position)\n",
    "    #게임 수행 시뮬레이션.\n",
    "    def play_game(self):\n",
    "        cellmates=self.model.grid.get_cell_list_contents([self.pos,])\n",
    "        #Game을 할 수 있다면,\n",
    "        if len(cellmates)>self.model.game_party: #game type별로 수정\n",
    "            other=self.random.choice(cellmates) # random.choices(cellmates,k=2) #multiple choice\n",
    "            #게임 아이템 구매 동기 발생(부분 유료화), 부러움 + 동전 던지기\n",
    "            if other.involvement >= self.involvement and self.random.random() <= 0.5:\n",
    "                reduced=model.game_cost+model.tax\n",
    "                if (self.wealth-reduced) < 0:\n",
    "                    reduced=self.wealth\n",
    "                self.paid+=model.game_cost #세금은 게임사에 귀속되지 않음\n",
    "                self.wealth-=reduced #게이머의 재산 감소(게임사 수익+세금)\n",
    "                self.involvement+=1\n",
    "            #active 하게 게임을 해서 involvment가 증가\n",
    "            self.involvement+=1\n",
    "        #Game을 할 수 없다면,\n",
    "        else:\n",
    "            if self.random.random() <= 0.5: #동전 던지기. 게임 흥미를 잃을 확률 50%\n",
    "                self.involvement-=1\n",
    "            if self.involvement <=0:\n",
    "                self.involvement=0"
   ]
  },
  {
   "cell_type": "code",
   "execution_count": 48,
   "metadata": {},
   "outputs": [],
   "source": [
    "class OnlineGame(Model):\n",
    "    def __init__(self,N,game_party,tax,width,height):\n",
    "        self.num_agents=N\n",
    "        # ==== Model Parameter ====\n",
    "        self.tax=tax #game cost up\n",
    "        self.game_cost=1\n",
    "        self.money_refill=30\n",
    "        self.game_party=game_party #게임에 참여하는 사람(최소 게임을 할 수 있는 인원)\n",
    "        #\n",
    "        self.running=True\n",
    "        self.schedule=RandomActivation(self)\n",
    "        self.grid=MultiGrid(width,height,True) #set Toroidal True\n",
    "        self.datacollector=DataCollector(\n",
    "            #model_reporters={'Gini':compute_gini},\n",
    "            agent_reporters={'Involvement':'involvement',\n",
    "                            'Wealth':'wealth',\n",
    "                            'Paid':'paid'}\n",
    "        )\n",
    "        self.setup_agent_pos()\n",
    "    def setup_agent_pos(self):\n",
    "        for i in range(self.num_agents):\n",
    "            a=Gamer(i,self)\n",
    "            self.schedule.add(a)\n",
    "            x=self.random.randrange(self.grid.width)\n",
    "            y=self.random.randrange(self.grid.height)\n",
    "            self.grid.place_agent(a,(x,y))\n",
    "    def step(self):\n",
    "        self.datacollector.collect(self)\n",
    "        self.schedule.step()"
   ]
  },
  {
   "cell_type": "code",
   "execution_count": 24,
   "metadata": {},
   "outputs": [],
   "source": [
    "model=OnlineGame(50,1,4,10,10)\n",
    "for i in range(100):\n",
    "    model.step()"
   ]
  },
  {
   "cell_type": "code",
   "execution_count": 15,
   "metadata": {},
   "outputs": [],
   "source": [
    "%matplotlib inline"
   ]
  },
  {
   "cell_type": "code",
   "execution_count": 16,
   "metadata": {},
   "outputs": [
    {
     "data": {
      "image/png": "[encoded data removed]",
      "text/plain": [
       "<Figure size 432x288 with 2 Axes>"
      ]
     },
     "metadata": {
      "needs_background": "light"
     },
     "output_type": "display_data"
    }
   ],
   "source": [
    "agent_counts=np.zeros((model.grid.width,model.grid.height))\n",
    "for cell in model.grid.coord_iter():\n",
    "    cell_content,x,y=cell\n",
    "    agent_count=len(cell_content)\n",
    "    agent_counts[x][y]=agent_count\n",
    "plt.imshow(agent_counts,interpolation='nearest')\n",
    "plt.colorbar()\n",
    "plt.show()"
   ]
  },
  {
   "cell_type": "code",
   "execution_count": 25,
   "metadata": {},
   "outputs": [],
   "source": [
    "agent_wealth=model.datacollector.get_agent_vars_dataframe()\n",
    "agent_wealth.to_csv('test.csv')"
   ]
  },
  {
   "cell_type": "code",
   "execution_count": 26,
   "metadata": {},
   "outputs": [],
   "source": [
    "from mesa.batchrunner import BatchRunner #배치처리."
   ]
  },
  {
   "cell_type": "code",
   "execution_count": 61,
   "metadata": {},
   "outputs": [
    {
     "name": "stderr",
     "output_type": "stream",
     "text": [
      "1000it [02:01,  8.12it/s]\n"
     ]
    }
   ],
   "source": [
    "fixed_params={'width':10,'height':10,'N':50,'game_party':1}\n",
    "variable_params={'tax':[0,1,2,3]}\n",
    "batch_run=BatchRunner(\n",
    "    OnlineGame,\n",
    "    variable_params, #세팅의 수는 49개 range(10,500,10), 10에서 490까지\n",
    "    fixed_params,\n",
    "    iterations=500,\n",
    "    max_steps=90,\n",
    "    model_reporters={'Paid':compute_paid}\n",
    ")\n",
    "batch_run.run_all()"
   ]
  },
  {
   "cell_type": "code",
   "execution_count": 62,
   "metadata": {},
   "outputs": [
    {
     "data": {
      "text/plain": [
       "[<matplotlib.lines.Line2D at 0x1f592bcc6a0>]"
      ]
     },
     "execution_count": 62,
     "metadata": {},
     "output_type": "execute_result"
    },
    {
     "data": {
      "image/png": "[encoded data removed]",
      "text/plain": [
       "<Figure size 432x288 with 1 Axes>"
      ]
     },
     "metadata": {
      "needs_background": "light"
     },
     "output_type": "display_data"
    }
   ],
   "source": [
    "run_data=batch_run.get_model_vars_dataframe() #각각의 batch가 끝날 때 데이터 수집\n",
    "result=run_data.groupby('tax').mean()\n",
    "result=result.reset_index()\n",
    "plt.plot(result.tax,result.Paid)"
   ]
  }
 ],
 "metadata": {
  "kernelspec": {
   "display_name": "Python 3",
   "language": "python",
   "name": "python3"
  },
  "language_info": {
   "codemirror_mode": {
    "name": "ipython",
    "version": 3
   },
   "file_extension": ".py",
   "mimetype": "text/x-python",
   "name": "python",
   "nbconvert_exporter": "python",
   "pygments_lexer": "ipython3",
   "version": "3.7.3"
  }
 },
 "nbformat": 4,
 "nbformat_minor": 2
}
