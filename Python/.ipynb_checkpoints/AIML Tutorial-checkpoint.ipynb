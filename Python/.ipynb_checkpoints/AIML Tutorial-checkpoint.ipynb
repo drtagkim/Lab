{
 "cells": [
  {
   "cell_type": "markdown",
   "metadata": {},
   "source": [
    "https://www.devdungeon.com/content/ai-chat-bot-python-aiml"
   ]
  },
  {
   "cell_type": "code",
   "execution_count": null,
   "metadata": {
    "scrolled": false
   },
   "outputs": [],
   "source": [
    "!pip install python-aiml"
   ]
  },
  {
   "cell_type": "code",
   "execution_count": null,
   "metadata": {},
   "outputs": [],
   "source": [
    "import aiml\n",
    "kernel=aiml.Kernel() #AIML process kerne\n",
    "kernel.learn('std-startup.xml')\n",
    "kernel.respond('load aiml b')"
   ]
  },
  {
   "cell_type": "code",
   "execution_count": null,
   "metadata": {
    "scrolled": false
   },
   "outputs": [],
   "source": [
    "while True:\n",
    "    print(kernel.respond(input(\">>\")))"
   ]
  },
  {
   "cell_type": "code",
   "execution_count": null,
   "metadata": {},
   "outputs": [],
   "source": []
  },
  {
   "cell_type": "code",
   "execution_count": null,
   "metadata": {},
   "outputs": [],
   "source": [
    "import aiml\n",
    "import os"
   ]
  },
  {
   "cell_type": "code",
   "execution_count": 11,
   "metadata": {},
   "outputs": [
    {
     "name": "stdout",
     "output_type": "stream",
     "text": [
      "Loading startup.xml...done (0.01 seconds)\n",
      "Loading ai.aiml...done (0.01 seconds)\n",
      "Loading alice.aiml...done (0.01 seconds)\n",
      "Loading astrology.aiml...done (0.00 seconds)\n",
      "Loading atomic.aiml...done (0.16 seconds)\n",
      "Loading biography.aiml...done (0.03 seconds)\n",
      "Loading bot.aiml...done (0.17 seconds)\n",
      "Loading bot_profile.aiml...done (0.00 seconds)\n",
      "Loading client.aiml...done (0.09 seconds)\n",
      "Loading client_profile.aiml...done (0.01 seconds)\n",
      "Loading computers.aiml...done (0.01 seconds)\n",
      "Loading continuation.aiml...done (0.00 seconds)\n",
      "Loading date.aiml...done (0.00 seconds)\n",
      "Loading default.aiml...done (0.29 seconds)\n",
      "Loading drugs.aiml...done (0.00 seconds)\n",
      "Loading emotion.aiml...done (0.01 seconds)\n",
      "Loading food.aiml...done (0.00 seconds)\n",
      "Loading geography.aiml...done (0.05 seconds)\n",
      "Loading gossip.aiml...done (0.00 seconds)\n",
      "Loading history.aiml...done (0.00 seconds)\n",
      "Loading humor.aiml...done (0.00 seconds)\n",
      "Loading imponderables.aiml...done (0.01 seconds)\n",
      "Loading inquiry.aiml...done (0.00 seconds)\n",
      "Loading interjection.aiml...done (0.00 seconds)\n",
      "Loading iu.aiml...done (0.00 seconds)\n",
      "Loading knowledge.aiml...done (0.09 seconds)\n",
      "Loading literature.aiml...done (0.00 seconds)\n",
      "Loading loebner10.aiml...done (0.00 seconds)\n",
      "Loading money.aiml...done (0.00 seconds)\n",
      "Loading movies.aiml...done (0.00 seconds)\n",
      "Loading mp0.aiml...done (0.29 seconds)\n",
      "Loading mp1.aiml...done (0.31 seconds)\n",
      "Loading mp2.aiml...done (0.32 seconds)\n",
      "Loading mp3.aiml...done (0.23 seconds)\n",
      "Loading mp4.aiml...done (0.42 seconds)\n",
      "Loading mp5.aiml...done (0.27 seconds)\n",
      "Loading mp6.aiml...done (0.25 seconds)\n",
      "Loading music.aiml...done (0.00 seconds)\n",
      "Loading numbers.aiml...done (0.01 seconds)\n",
      "Loading personality.aiml...done (0.01 seconds)\n",
      "Loading phone.aiml...done (0.00 seconds)\n",
      "Loading pickup.aiml...done (0.00 seconds)\n",
      "Loading politics.aiml...done (0.00 seconds)\n",
      "Loading primeminister.aiml...done (0.00 seconds)\n",
      "Loading psychology.aiml...done (0.05 seconds)\n",
      "Loading reduction.names.aiml...done (0.21 seconds)\n",
      "Loading reduction0.safe.aiml...done (0.38 seconds)\n",
      "Loading reduction1.safe.aiml...done (0.44 seconds)\n",
      "Loading reduction2.safe.aiml...done (0.20 seconds)\n",
      "Loading reduction3.safe.aiml...done (0.29 seconds)\n",
      "Loading reduction4.safe.aiml...done (0.19 seconds)\n",
      "Loading reductions-update.aiml...done (0.01 seconds)\n",
      "Loading religion.aiml...done (0.02 seconds)\n",
      "Loading salutations.aiml...done (0.01 seconds)\n",
      "Loading science.aiml...done (0.00 seconds)\n",
      "Loading sex.aiml...done (0.01 seconds)\n",
      "Loading sports.aiml...done (0.00 seconds)\n",
      "Loading stack.aiml...done (0.00 seconds)\n",
      "Loading stories.aiml...done (0.02 seconds)\n",
      "Loading that.aiml...done (0.07 seconds)\n",
      "Loading update1.aiml...done (0.08 seconds)\n",
      "Loading update_mccormick.aiml...done (0.01 seconds)\n",
      "Loading wallace.aiml...done (0.03 seconds)\n",
      "Loading xfind.aiml...done (0.00 seconds)\n",
      "\n",
      "Kernel bootstrap completed in 5.17 seconds\n"
     ]
    }
   ],
   "source": [
    "kernel=aiml.Kernel()\n",
    "kernel.bootstrap(learnFiles=\"startup.xml\",commands='load alice',chdir=os.path.join(aiml.__path__[0],'botdata','alice'))"
   ]
  },
  {
   "cell_type": "code",
   "execution_count": 12,
   "metadata": {},
   "outputs": [
    {
     "name": "stdout",
     "output_type": "stream",
     "text": [
      "Loading std-startup.xml...done (0.00 seconds)\n",
      "Loading basic_chat.aiml...done (0.00 seconds)\n",
      "\n",
      "Kernel bootstrap completed in 0.01 seconds\n"
     ]
    }
   ],
   "source": [
    "kernel.bootstrap(learnFiles='std-startup.xml',commands='load aiml b')"
   ]
  },
  {
   "cell_type": "code",
   "execution_count": 14,
   "metadata": {},
   "outputs": [],
   "source": [
    "getline=lambda:input(\">> \")"
   ]
  },
  {
   "cell_type": "code",
   "execution_count": 19,
   "metadata": {
    "scrolled": true
   },
   "outputs": [
    {
     "name": "stdout",
     "output_type": "stream",
     "text": [
      ">> weather?\n",
      "Cloudy.\n"
     ]
    }
   ],
   "source": [
    "print(kernel.respond(getline()))"
   ]
  },
  {
   "cell_type": "code",
   "execution_count": null,
   "metadata": {},
   "outputs": [],
   "source": [
    "os.getcwd()"
   ]
  },
  {
   "cell_type": "code",
   "execution_count": 20,
   "metadata": {},
   "outputs": [
    {
     "name": "stdout",
     "output_type": "stream",
     "text": [
      "Saving brain to my.brn...done (0.26 seconds)\n"
     ]
    }
   ],
   "source": [
    "kernel.saveBrain('my.brn')"
   ]
  },
  {
   "cell_type": "code",
   "execution_count": null,
   "metadata": {},
   "outputs": [],
   "source": []
  },
  {
   "cell_type": "code",
   "execution_count": null,
   "metadata": {},
   "outputs": [],
   "source": []
  },
  {
   "cell_type": "code",
   "execution_count": 1,
   "metadata": {},
   "outputs": [
    {
     "data": {
      "text/plain": [
       "['C:\\\\Users\\\\PC\\\\anaconda3\\\\lib\\\\site-packages\\\\aiml']"
      ]
     },
     "execution_count": 1,
     "metadata": {},
     "output_type": "execute_result"
    }
   ],
   "source": [
    "import aiml\n",
    "import os\n",
    "aiml.__path__"
   ]
  },
  {
   "cell_type": "code",
   "execution_count": 107,
   "metadata": {},
   "outputs": [],
   "source": [
    "kernel=aiml.Kernel()"
   ]
  },
  {
   "cell_type": "code",
   "execution_count": 108,
   "metadata": {},
   "outputs": [
    {
     "name": "stdout",
     "output_type": "stream",
     "text": [
      "Loading brain from my.brn...done (98258 categories in 3.75 seconds)\n",
      "Kernel bootstrap completed in 3.75 seconds\n"
     ]
    }
   ],
   "source": [
    "kernel.bootstrap(brainFile='my.brn')"
   ]
  },
  {
   "cell_type": "code",
   "execution_count": 109,
   "metadata": {},
   "outputs": [
    {
     "name": "stdout",
     "output_type": "stream",
     "text": [
      ">> Hello Alice.\n",
      "Well, hello!\n"
     ]
    }
   ],
   "source": [
    "print(kernel.respond(getline()))"
   ]
  },
  {
   "cell_type": "code",
   "execution_count": null,
   "metadata": {},
   "outputs": [],
   "source": []
  },
  {
   "cell_type": "code",
   "execution_count": null,
   "metadata": {},
   "outputs": [],
   "source": []
  },
  {
   "cell_type": "code",
   "execution_count": null,
   "metadata": {},
   "outputs": [],
   "source": [
    "import aiml\n",
    "import os"
   ]
  },
  {
   "cell_type": "code",
   "execution_count": 110,
   "metadata": {
    "scrolled": false
   },
   "outputs": [
    {
     "name": "stdout",
     "output_type": "stream",
     "text": [
      "Loading startup.xml...done (0.00 seconds)\n",
      "Loading ai.aiml...done (0.01 seconds)\n",
      "Loading alice.aiml...done (0.01 seconds)\n",
      "Loading astrology.aiml...done (0.00 seconds)\n",
      "Loading atomic.aiml...done (0.70 seconds)\n",
      "Loading biography.aiml...done (0.02 seconds)\n",
      "Loading bot.aiml...done (0.12 seconds)\n",
      "Loading bot_profile.aiml...done (0.01 seconds)\n",
      "Loading client.aiml...done (0.05 seconds)\n",
      "Loading client_profile.aiml...done (0.01 seconds)\n",
      "Loading computers.aiml...done (0.01 seconds)\n",
      "Loading continuation.aiml...done (0.00 seconds)\n",
      "Loading date.aiml...done (0.00 seconds)\n",
      "Loading default.aiml...done (0.26 seconds)\n",
      "Loading drugs.aiml...done (0.00 seconds)\n",
      "Loading emotion.aiml...done (0.01 seconds)\n",
      "Loading food.aiml...done (0.00 seconds)\n",
      "Loading geography.aiml...done (0.04 seconds)\n",
      "Loading gossip.aiml...done (0.00 seconds)\n",
      "Loading history.aiml...done (0.00 seconds)\n",
      "Loading humor.aiml...done (0.00 seconds)\n",
      "Loading imponderables.aiml...done (0.00 seconds)\n",
      "Loading inquiry.aiml...done (0.00 seconds)\n",
      "Loading interjection.aiml...done (0.00 seconds)\n",
      "Loading iu.aiml...done (0.00 seconds)\n",
      "Loading knowledge.aiml...done (0.16 seconds)\n",
      "Loading literature.aiml...done (0.00 seconds)\n",
      "Loading loebner10.aiml...done (0.00 seconds)\n",
      "Loading money.aiml...done (0.01 seconds)\n",
      "Loading movies.aiml...done (0.00 seconds)\n",
      "Loading mp0.aiml...done (0.28 seconds)\n",
      "Loading mp1.aiml...done (0.18 seconds)\n",
      "Loading mp2.aiml...done (0.30 seconds)\n",
      "Loading mp3.aiml...done (0.30 seconds)\n",
      "Loading mp4.aiml...done (0.16 seconds)\n",
      "Loading mp5.aiml...done (0.33 seconds)\n",
      "Loading mp6.aiml...done (0.11 seconds)\n",
      "Loading music.aiml...done (0.00 seconds)\n",
      "Loading numbers.aiml...done (0.01 seconds)\n",
      "Loading personality.aiml...done (0.01 seconds)\n",
      "Loading phone.aiml...done (0.00 seconds)\n",
      "Loading pickup.aiml...done (0.00 seconds)\n",
      "Loading politics.aiml...done (0.00 seconds)\n",
      "Loading primeminister.aiml...done (0.00 seconds)\n",
      "Loading psychology.aiml...done (0.03 seconds)\n",
      "Loading reduction.names.aiml...done (0.19 seconds)\n",
      "Loading reduction0.safe.aiml...done (0.25 seconds)\n",
      "Loading reduction1.safe.aiml...done (0.40 seconds)\n",
      "Loading reduction2.safe.aiml...done (0.14 seconds)\n",
      "Loading reduction3.safe.aiml...done (0.16 seconds)\n",
      "Loading reduction4.safe.aiml...done (0.16 seconds)\n",
      "Loading reductions-update.aiml...done (0.00 seconds)\n",
      "Loading religion.aiml...done (0.01 seconds)\n",
      "Loading salutations.aiml...done (0.01 seconds)\n",
      "Loading science.aiml...done (0.00 seconds)\n",
      "Loading sex.aiml...done (0.01 seconds)\n",
      "Loading sports.aiml...done (0.00 seconds)\n",
      "Loading stack.aiml...done (0.00 seconds)\n",
      "Loading stories.aiml...done (0.01 seconds)\n",
      "Loading that.aiml...done (0.05 seconds)\n",
      "Loading update1.aiml...done (0.06 seconds)\n",
      "Loading update_mccormick.aiml...done (0.00 seconds)\n",
      "Loading wallace.aiml...done (0.02 seconds)\n",
      "Loading xfind.aiml...done (0.00 seconds)\n",
      "\n",
      "Kernel bootstrap completed in 4.68 seconds\n"
     ]
    }
   ],
   "source": [
    "kernel=aiml.Kernel()\n",
    "kernel.bootstrap(learnFiles=\"startup.xml\",commands='load alice',chdir=os.path.join(aiml.__path__[0],'botdata','alice'))\n",
    "#kernel.bootstrap(learnFiles=\"std-startup-my.xml\",commands='load hotel aiml')"
   ]
  },
  {
   "cell_type": "code",
   "execution_count": 103,
   "metadata": {
    "scrolled": true
   },
   "outputs": [
    {
     "name": "stdout",
     "output_type": "stream",
     "text": [
      "Loading std-startup-my.xml...done (0.00 seconds)\n",
      "Loading topic2.aiml...done (0.00 seconds)\n",
      "\n",
      "Kernel bootstrap completed in 0.00 seconds\n"
     ]
    }
   ],
   "source": [
    "kernel=aiml.Kernel()\n",
    "kernel.bootstrap(learnFiles=\"std-startup-my.xml\",commands='load hotel aiml')"
   ]
  },
  {
   "cell_type": "code",
   "execution_count": 73,
   "metadata": {},
   "outputs": [],
   "source": [
    "session_id=1"
   ]
  },
  {
   "cell_type": "code",
   "execution_count": 111,
   "metadata": {
    "scrolled": false
   },
   "outputs": [
    {
     "name": "stdout",
     "output_type": "stream",
     "text": [
      ">> Hello, ALICE\n",
      "Hi there!\n",
      ">> How old are you?\n",
      "I was activated in 1995.\n",
      ">> My name is Eliza.\n",
      "How are you doing, Eliza.\n",
      ">> Oh, thank you for asking. I am good.\n",
      "You are welcome.  Good in what sense?\n",
      ">> I am so please to see you.\n",
      "I'm pleased to introduce myself to you, So.. Bye bye.\n",
      ">> \n"
     ]
    },
    {
     "ename": "KeyboardInterrupt",
     "evalue": "",
     "output_type": "error",
     "traceback": [
      "\u001b[1;31m---------------------------------------------------------------------------\u001b[0m",
      "\u001b[1;31mKeyboardInterrupt\u001b[0m                         Traceback (most recent call last)",
      "\u001b[1;32m~\\anaconda3\\lib\\site-packages\\ipykernel\\kernelbase.py\u001b[0m in \u001b[0;36m_input_request\u001b[1;34m(self, prompt, ident, parent, password)\u001b[0m\n\u001b[0;32m    883\u001b[0m             \u001b[1;32mtry\u001b[0m\u001b[1;33m:\u001b[0m\u001b[1;33m\u001b[0m\u001b[1;33m\u001b[0m\u001b[0m\n\u001b[1;32m--> 884\u001b[1;33m                 \u001b[0mident\u001b[0m\u001b[1;33m,\u001b[0m \u001b[0mreply\u001b[0m \u001b[1;33m=\u001b[0m \u001b[0mself\u001b[0m\u001b[1;33m.\u001b[0m\u001b[0msession\u001b[0m\u001b[1;33m.\u001b[0m\u001b[0mrecv\u001b[0m\u001b[1;33m(\u001b[0m\u001b[0mself\u001b[0m\u001b[1;33m.\u001b[0m\u001b[0mstdin_socket\u001b[0m\u001b[1;33m,\u001b[0m \u001b[1;36m0\u001b[0m\u001b[1;33m)\u001b[0m\u001b[1;33m\u001b[0m\u001b[1;33m\u001b[0m\u001b[0m\n\u001b[0m\u001b[0;32m    885\u001b[0m             \u001b[1;32mexcept\u001b[0m \u001b[0mException\u001b[0m\u001b[1;33m:\u001b[0m\u001b[1;33m\u001b[0m\u001b[1;33m\u001b[0m\u001b[0m\n",
      "\u001b[1;32m~\\anaconda3\\lib\\site-packages\\jupyter_client\\session.py\u001b[0m in \u001b[0;36mrecv\u001b[1;34m(self, socket, mode, content, copy)\u001b[0m\n\u001b[0;32m    802\u001b[0m         \u001b[1;32mtry\u001b[0m\u001b[1;33m:\u001b[0m\u001b[1;33m\u001b[0m\u001b[1;33m\u001b[0m\u001b[0m\n\u001b[1;32m--> 803\u001b[1;33m             \u001b[0mmsg_list\u001b[0m \u001b[1;33m=\u001b[0m \u001b[0msocket\u001b[0m\u001b[1;33m.\u001b[0m\u001b[0mrecv_multipart\u001b[0m\u001b[1;33m(\u001b[0m\u001b[0mmode\u001b[0m\u001b[1;33m,\u001b[0m \u001b[0mcopy\u001b[0m\u001b[1;33m=\u001b[0m\u001b[0mcopy\u001b[0m\u001b[1;33m)\u001b[0m\u001b[1;33m\u001b[0m\u001b[1;33m\u001b[0m\u001b[0m\n\u001b[0m\u001b[0;32m    804\u001b[0m         \u001b[1;32mexcept\u001b[0m \u001b[0mzmq\u001b[0m\u001b[1;33m.\u001b[0m\u001b[0mZMQError\u001b[0m \u001b[1;32mas\u001b[0m \u001b[0me\u001b[0m\u001b[1;33m:\u001b[0m\u001b[1;33m\u001b[0m\u001b[1;33m\u001b[0m\u001b[0m\n",
      "\u001b[1;32m~\\anaconda3\\lib\\site-packages\\zmq\\sugar\\socket.py\u001b[0m in \u001b[0;36mrecv_multipart\u001b[1;34m(self, flags, copy, track)\u001b[0m\n\u001b[0;32m    474\u001b[0m         \"\"\"\n\u001b[1;32m--> 475\u001b[1;33m         \u001b[0mparts\u001b[0m \u001b[1;33m=\u001b[0m \u001b[1;33m[\u001b[0m\u001b[0mself\u001b[0m\u001b[1;33m.\u001b[0m\u001b[0mrecv\u001b[0m\u001b[1;33m(\u001b[0m\u001b[0mflags\u001b[0m\u001b[1;33m,\u001b[0m \u001b[0mcopy\u001b[0m\u001b[1;33m=\u001b[0m\u001b[0mcopy\u001b[0m\u001b[1;33m,\u001b[0m \u001b[0mtrack\u001b[0m\u001b[1;33m=\u001b[0m\u001b[0mtrack\u001b[0m\u001b[1;33m)\u001b[0m\u001b[1;33m]\u001b[0m\u001b[1;33m\u001b[0m\u001b[1;33m\u001b[0m\u001b[0m\n\u001b[0m\u001b[0;32m    476\u001b[0m         \u001b[1;31m# have first part already, only loop while more to receive\u001b[0m\u001b[1;33m\u001b[0m\u001b[1;33m\u001b[0m\u001b[1;33m\u001b[0m\u001b[0m\n",
      "\u001b[1;32mzmq/backend/cython/socket.pyx\u001b[0m in \u001b[0;36mzmq.backend.cython.socket.Socket.recv\u001b[1;34m()\u001b[0m\n",
      "\u001b[1;32mzmq/backend/cython/socket.pyx\u001b[0m in \u001b[0;36mzmq.backend.cython.socket.Socket.recv\u001b[1;34m()\u001b[0m\n",
      "\u001b[1;32mzmq/backend/cython/socket.pyx\u001b[0m in \u001b[0;36mzmq.backend.cython.socket._recv_copy\u001b[1;34m()\u001b[0m\n",
      "\u001b[1;32m~\\anaconda3\\lib\\site-packages\\zmq\\backend\\cython\\checkrc.pxd\u001b[0m in \u001b[0;36mzmq.backend.cython.checkrc._check_rc\u001b[1;34m()\u001b[0m\n",
      "\u001b[1;31mKeyboardInterrupt\u001b[0m: ",
      "\nDuring handling of the above exception, another exception occurred:\n",
      "\u001b[1;31mKeyboardInterrupt\u001b[0m                         Traceback (most recent call last)",
      "\u001b[1;32m<ipython-input-111-1b6b6ad46019>\u001b[0m in \u001b[0;36m<module>\u001b[1;34m\u001b[0m\n\u001b[0;32m      1\u001b[0m \u001b[1;32mwhile\u001b[0m \u001b[1;32mTrue\u001b[0m\u001b[1;33m:\u001b[0m\u001b[1;33m\u001b[0m\u001b[1;33m\u001b[0m\u001b[0m\n\u001b[1;32m----> 2\u001b[1;33m     \u001b[0mprint\u001b[0m\u001b[1;33m(\u001b[0m\u001b[0mkernel\u001b[0m\u001b[1;33m.\u001b[0m\u001b[0mrespond\u001b[0m\u001b[1;33m(\u001b[0m\u001b[0mgetline\u001b[0m\u001b[1;33m(\u001b[0m\u001b[1;33m)\u001b[0m\u001b[1;33m,\u001b[0m\u001b[0msession_id\u001b[0m\u001b[1;33m)\u001b[0m\u001b[1;33m)\u001b[0m\u001b[1;33m\u001b[0m\u001b[1;33m\u001b[0m\u001b[0m\n\u001b[0m",
      "\u001b[1;32m<ipython-input-14-2d071108adf7>\u001b[0m in \u001b[0;36m<lambda>\u001b[1;34m()\u001b[0m\n\u001b[1;32m----> 1\u001b[1;33m \u001b[0mgetline\u001b[0m\u001b[1;33m=\u001b[0m\u001b[1;32mlambda\u001b[0m\u001b[1;33m:\u001b[0m\u001b[0minput\u001b[0m\u001b[1;33m(\u001b[0m\u001b[1;34m\">> \"\u001b[0m\u001b[1;33m)\u001b[0m\u001b[1;33m\u001b[0m\u001b[1;33m\u001b[0m\u001b[0m\n\u001b[0m",
      "\u001b[1;32m~\\anaconda3\\lib\\site-packages\\ipykernel\\kernelbase.py\u001b[0m in \u001b[0;36mraw_input\u001b[1;34m(self, prompt)\u001b[0m\n\u001b[0;32m    857\u001b[0m             \u001b[0mself\u001b[0m\u001b[1;33m.\u001b[0m\u001b[0m_parent_ident\u001b[0m\u001b[1;33m,\u001b[0m\u001b[1;33m\u001b[0m\u001b[1;33m\u001b[0m\u001b[0m\n\u001b[0;32m    858\u001b[0m             \u001b[0mself\u001b[0m\u001b[1;33m.\u001b[0m\u001b[0m_parent_header\u001b[0m\u001b[1;33m,\u001b[0m\u001b[1;33m\u001b[0m\u001b[1;33m\u001b[0m\u001b[0m\n\u001b[1;32m--> 859\u001b[1;33m             \u001b[0mpassword\u001b[0m\u001b[1;33m=\u001b[0m\u001b[1;32mFalse\u001b[0m\u001b[1;33m,\u001b[0m\u001b[1;33m\u001b[0m\u001b[1;33m\u001b[0m\u001b[0m\n\u001b[0m\u001b[0;32m    860\u001b[0m         )\n\u001b[0;32m    861\u001b[0m \u001b[1;33m\u001b[0m\u001b[0m\n",
      "\u001b[1;32m~\\anaconda3\\lib\\site-packages\\ipykernel\\kernelbase.py\u001b[0m in \u001b[0;36m_input_request\u001b[1;34m(self, prompt, ident, parent, password)\u001b[0m\n\u001b[0;32m    887\u001b[0m             \u001b[1;32mexcept\u001b[0m \u001b[0mKeyboardInterrupt\u001b[0m\u001b[1;33m:\u001b[0m\u001b[1;33m\u001b[0m\u001b[1;33m\u001b[0m\u001b[0m\n\u001b[0;32m    888\u001b[0m                 \u001b[1;31m# re-raise KeyboardInterrupt, to truncate traceback\u001b[0m\u001b[1;33m\u001b[0m\u001b[1;33m\u001b[0m\u001b[1;33m\u001b[0m\u001b[0m\n\u001b[1;32m--> 889\u001b[1;33m                 \u001b[1;32mraise\u001b[0m \u001b[0mKeyboardInterrupt\u001b[0m\u001b[1;33m\u001b[0m\u001b[1;33m\u001b[0m\u001b[0m\n\u001b[0m\u001b[0;32m    890\u001b[0m             \u001b[1;32melse\u001b[0m\u001b[1;33m:\u001b[0m\u001b[1;33m\u001b[0m\u001b[1;33m\u001b[0m\u001b[0m\n\u001b[0;32m    891\u001b[0m                 \u001b[1;32mbreak\u001b[0m\u001b[1;33m\u001b[0m\u001b[1;33m\u001b[0m\u001b[0m\n",
      "\u001b[1;31mKeyboardInterrupt\u001b[0m: "
     ]
    }
   ],
   "source": [
    "while True:\n",
    "    print(kernel.respond(getline(),session_id))"
   ]
  },
  {
   "cell_type": "code",
   "execution_count": null,
   "metadata": {},
   "outputs": [],
   "source": [
    "kernel.respond()"
   ]
  }
 ],
 "metadata": {
  "kernelspec": {
   "display_name": "Python 3",
   "language": "python",
   "name": "python3"
  },
  "language_info": {
   "codemirror_mode": {
    "name": "ipython",
    "version": 3
   },
   "file_extension": ".py",
   "mimetype": "text/x-python",
   "name": "python",
   "nbconvert_exporter": "python",
   "pygments_lexer": "ipython3",
   "version": "3.7.6"
  }
 },
 "nbformat": 4,
 "nbformat_minor": 4
}
