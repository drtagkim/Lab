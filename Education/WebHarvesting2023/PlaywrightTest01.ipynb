{
 "cells": [
  {
   "cell_type": "markdown",
   "id": "523a5f8a",
   "metadata": {},
   "source": [
    "## Playwright Tutorial 01\n",
    "### Incognito mode = off"
   ]
  },
  {
   "cell_type": "code",
   "execution_count": 4,
   "id": "28a3d1ca",
   "metadata": {},
   "outputs": [],
   "source": [
    "from playwright.async_api import async_playwright,expect\n",
    "import asyncio\n",
    "import aiofiles"
   ]
  },
  {
   "cell_type": "code",
   "execution_count": 6,
   "id": "fcf8840a",
   "metadata": {},
   "outputs": [
    {
     "name": "stdout",
     "output_type": "stream",
     "text": [
      "Type URL to visit>>>https://www.tripadvisor.com/Attraction_Review-g294197-d1169465-Reviews-N_Seoul_Tower-Seoul.html#REVIEWS\n",
      "(s=save,n=next,q=quit)>>>s\n",
      "....file_name without html extension::test01.html\n",
      "....OK.\n",
      "779509\n",
      "(s=save,n=next,q=quit)>>>n\n",
      "(s=save,n=next,q=quit)>>>s\n",
      "....file_name without html extension::test02.html\n",
      "....OK.\n",
      "712221\n",
      "(s=save,n=next,q=quit)>>>n\n",
      "(s=save,n=next,q=quit)>>>s\n",
      "....file_name without html extension::test03.html\n",
      "....OK.\n",
      "716419\n",
      "(s=save,n=next,q=quit)>>>n\n",
      "(s=save,n=next,q=quit)>>>s\n",
      "....file_name without html extension::test04.html\n",
      "....OK.\n",
      "719535\n",
      "(s=save,n=next,q=quit)>>>n\n",
      "(s=save,n=next,q=quit)>>>s\n",
      "....file_name without html extension::test05.html\n",
      "....OK.\n",
      "727779\n",
      "(s=save,n=next,q=quit)>>>n\n",
      "(s=save,n=next,q=quit)>>>\n",
      "(s=save,n=next,q=quit)>>>s\n",
      "....file_name without html extension::test06.html\n",
      "....OK.\n",
      "718120\n",
      "(s=save,n=next,q=quit)>>>q\n"
     ]
    }
   ],
   "source": [
    "async with async_playwright() as p:\n",
    "    browser = await p.chromium.launch_persistent_context(user_data_dir=\"tmp\", headless=False)\n",
    "    page = await browser.new_page()\n",
    "    url=input(\"Type URL to visit>>>\")\n",
    "    await page.goto(url, wait_until='domcontentloaded')\n",
    "    # read more\n",
    "    while True:\n",
    "        await expect(page.locator(\"span\")).to_contain_text(['Reviews'])\n",
    "        await page.evaluate('var read_more_css=\"#tab-data-qa-reviews-0 > div > div.LbPSX > div > div > div > div > div._T.FKffI.bmUTE > div.lszDU > button > span\";')\n",
    "        await page.evaluate('document.querySelectorAll(read_more_css).forEach((ele)=>{ele.click();});')\n",
    "        while True:\n",
    "            x=input(\"(s=save,n=next,q=quit)>>>\")\n",
    "            if x=='s' or x=='n' or x=='q':\n",
    "                break\n",
    "            else:\n",
    "                print(\"...[waring] please type a correct command.\")\n",
    "        if x==\"s\":\n",
    "            content=await page.content()\n",
    "            fname=input(\"....file_name with html extension::\")\n",
    "            async with aiofiles.open(fname,'w',encoding='utf-8') as file:\n",
    "                await file.write(content)\n",
    "            print(\"....OK.\")\n",
    "        elif x==\"n\":\n",
    "            print(\"...[info] visiting the next review page.\")\n",
    "            await page.evaluate('var next_css=\"#tab-data-qa-reviews-0  div > div.OvVFl.j > div.xkSty > div > a\";')\n",
    "            await page.evaluate('document.querySelector(next_css).click();')\n",
    "        elif x==\"q\":\n",
    "            print(\"...[info] bye.\")\n",
    "            break\n",
    "    await browser.close()"
   ]
  }
 ],
 "metadata": {
  "kernelspec": {
   "display_name": "Python 3 (ipykernel)",
   "language": "python",
   "name": "python3"
  },
  "language_info": {
   "codemirror_mode": {
    "name": "ipython",
    "version": 3
   },
   "file_extension": ".py",
   "mimetype": "text/x-python",
   "name": "python",
   "nbconvert_exporter": "python",
   "pygments_lexer": "ipython3",
   "version": "3.9.10"
  }
 },
 "nbformat": 4,
 "nbformat_minor": 5
}
