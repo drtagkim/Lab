{
 "cells": [
  {
   "cell_type": "code",
   "execution_count": 13,
   "metadata": {},
   "outputs": [],
   "source": [
    "import random"
   ]
  },
  {
   "cell_type": "code",
   "execution_count": 75,
   "metadata": {},
   "outputs": [],
   "source": [
    "class Number:\n",
    "    numbers=[0,1,2,3,4,5,6,7]\n",
    "    def __init__(self):\n",
    "        self.showing_number=self.rotate()\n",
    "    def rotate(self):\n",
    "        return random.choice(Number.numbers)\n",
    "    def set_number(self,new_number):\n",
    "        self.showing_number=new_number"
   ]
  },
  {
   "cell_type": "code",
   "execution_count": 86,
   "metadata": {},
   "outputs": [],
   "source": [
    "class Lever:\n",
    "    def __init__(self):\n",
    "        pass\n",
    "    def pull_down(self,numbers):\n",
    "        for n in numbers:\n",
    "            new_number=n.rotate()\n",
    "            n.set_number(new_number)\n",
    "        current_numbers=[n.showing_number for n in numbers]\n",
    "        print(\"Numbers {}\".format(current_numbers))"
   ]
  },
  {
   "cell_type": "code",
   "execution_count": 70,
   "metadata": {},
   "outputs": [],
   "source": [
    "class Coin:\n",
    "    pass"
   ]
  },
  {
   "cell_type": "code",
   "execution_count": 71,
   "metadata": {},
   "outputs": [],
   "source": [
    "class CoinBox:\n",
    "    pass"
   ]
  },
  {
   "cell_type": "code",
   "execution_count": 72,
   "metadata": {},
   "outputs": [],
   "source": [
    "class Screen:\n",
    "    def __init__(self):\n",
    "        self.numbers=[Number(),Number(),Number()]"
   ]
  },
  {
   "cell_type": "code",
   "execution_count": 87,
   "metadata": {},
   "outputs": [],
   "source": [
    "class SlotMachine:\n",
    "    def __init__(self):\n",
    "        self.screen=Screen()\n",
    "        self.lever=Lever()\n",
    "        self.coinBox=CoinBox()\n",
    "    def play_one(self):\n",
    "        self.lever.pull_down(self.screen.numbers)\n",
    "    def put_money(self,money):\n",
    "        self.batting=money"
   ]
  },
  {
   "cell_type": "code",
   "execution_count": 88,
   "metadata": {},
   "outputs": [],
   "source": [
    "slotMachine1 = SlotMachine()"
   ]
  },
  {
   "cell_type": "code",
   "execution_count": 145,
   "metadata": {},
   "outputs": [
    {
     "name": "stdout",
     "output_type": "stream",
     "text": [
      "Numbers [1, 7, 3]\n"
     ]
    }
   ],
   "source": [
    "slotMachine1.play_one()"
   ]
  },
  {
   "cell_type": "code",
   "execution_count": null,
   "metadata": {},
   "outputs": [],
   "source": []
  },
  {
   "cell_type": "code",
   "execution_count": null,
   "metadata": {},
   "outputs": [],
   "source": []
  }
 ],
 "metadata": {
  "kernelspec": {
   "display_name": "Python 3",
   "language": "python",
   "name": "python3"
  },
  "language_info": {
   "codemirror_mode": {
    "name": "ipython",
    "version": 3
   },
   "file_extension": ".py",
   "mimetype": "text/x-python",
   "name": "python",
   "nbconvert_exporter": "python",
   "pygments_lexer": "ipython3",
   "version": "3.7.6"
  }
 },
 "nbformat": 4,
 "nbformat_minor": 4
}
