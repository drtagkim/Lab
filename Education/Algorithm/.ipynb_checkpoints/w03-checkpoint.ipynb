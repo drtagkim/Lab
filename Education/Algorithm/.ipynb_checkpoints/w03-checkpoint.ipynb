{
 "cells": [
  {
   "cell_type": "markdown",
   "metadata": {},
   "source": [
    "# 탐색 & 정렬\n",
    "## Sequential search"
   ]
  },
  {
   "cell_type": "code",
   "execution_count": 1,
   "metadata": {},
   "outputs": [
    {
     "name": "stdout",
     "output_type": "stream",
     "text": [
      "2\n",
      "3\n",
      "-1\n"
     ]
    }
   ],
   "source": [
    "# 리스트에서 특정 숫자 위치 찾기\n",
    "# 입력: 리스트 a, 찾는 값 x \n",
    "# 출력: 찾으면 그 값의 위치, 찾지 못하면 -1\n",
    "\n",
    "def search_list(a, x):\n",
    "    n = len(a)  # 입력 크기 n\n",
    "    for i in range(0, n):  # 리스트 a의 모든 값을 차례로\n",
    "        if x == a[i]:      # x 값과 비교하여\n",
    "            return i       # 같으면 위치 돌려줍니다.\n",
    "\n",
    "    return -1   # 끝까지 비교해서 없으면 -1을 돌려줍니다.\n",
    "\n",
    "v = [17, 92, 18, 33, 58, 7, 33, 42]\n",
    "print(search_list(v, 18))   # 2(순서상 세 번째지만, 위치 번호는 2)\n",
    "print(search_list(v, 33))   # 3(33은 리스트에 두 번 나오지만 처음 나온 위치만 출력)\n",
    "print(search_list(v, 900))  # -1(900은 리스트에 없음)\n",
    "\n"
   ]
  },
  {
   "cell_type": "markdown",
   "metadata": {},
   "source": [
    "계산 복잡도는 어떻게 되는가?"
   ]
  },
  {
   "cell_type": "markdown",
   "metadata": {},
   "source": [
    "## 선택 정렬"
   ]
  },
  {
   "cell_type": "code",
   "execution_count": 2,
   "metadata": {},
   "outputs": [
    {
     "name": "stdout",
     "output_type": "stream",
     "text": [
      "[1, 2, 3, 4, 5]\n"
     ]
    }
   ],
   "source": [
    "# 입력: 리스트 a\n",
    "# 출력: 정렬된 새 리스트\n",
    "\n",
    "# 주어진 리스트에서 최솟값의 위치를 돌려주는 함수\n",
    "def find_min_idx(a):\n",
    "    n = len(a)\n",
    "    min_idx = 0\n",
    "    for i in range(1, n):\n",
    "        if a[i] < a[min_idx]:\n",
    "            min_idx = i\n",
    "    return min_idx\n",
    "\n",
    "def sel_sort(a):\n",
    "    result = []  # 새 리스트를 만들어 정렬된 값을 저장\n",
    "    while a:     # 주어진 리스트에 값이 남아있는 동안 계속\n",
    "        min_idx = find_min_idx(a)  # 리스트에 남아 있는 값 중 최솟값의 위치\n",
    "        value = a.pop(min_idx)    # 찾은 최솟값을 빼내어 value에 저장\n",
    "        result.append(value)     # value를 결과 리스트 끝에 추가\n",
    "    return result\n",
    "\n",
    "d = [2, 4, 5, 1, 3]\n",
    "print(sel_sort(d))\n"
   ]
  },
  {
   "cell_type": "code",
   "execution_count": 3,
   "metadata": {},
   "outputs": [
    {
     "name": "stdout",
     "output_type": "stream",
     "text": [
      "[1, 2, 3, 4, 5]\n"
     ]
    }
   ],
   "source": [
    "# 선택 정렬\n",
    "# 입력: 리스트 a\n",
    "# 출력: 없음(입력으로 주어진 a가 정렬됨)\n",
    "\n",
    "def sel_sort(a):\n",
    "    n = len(a)\n",
    "    for i in range(0, n - 1):\n",
    "        min_idx = i\n",
    "        for j in range(i + 1, n):\n",
    "            if a[j] < a[min_idx]: #min_idx가 거짓이라면\n",
    "                min_idx = j #바꾸기\n",
    "        a[i], a[min_idx] = a[min_idx], a[i] #값도 바꾸기\n",
    "\n",
    "d = [2, 4, 5, 1, 3]\n",
    "sel_sort(d)\n",
    "print(d)\n"
   ]
  },
  {
   "cell_type": "markdown",
   "metadata": {},
   "source": [
    "만약 5개의 값에 대한 선택 정렬을 하려면 비교하는 횟수는 $ 4+3+2+1 = \\frac{5(5-1)}{2} = 10$\n",
    "\n",
    "일반적으로 $n$개의 값에 대해 횟수가 $\\frac{n(n-1)}{2}$로 정해지므로 복잡도는 $O(n^2)$가 된다. 간단하기는 하지만 그렇게 빠르다고 볼 수는 없다."
   ]
  }
 ],
 "metadata": {
  "kernelspec": {
   "display_name": "Python 3",
   "language": "python",
   "name": "python3"
  },
  "language_info": {
   "codemirror_mode": {
    "name": "ipython",
    "version": 3
   },
   "file_extension": ".py",
   "mimetype": "text/x-python",
   "name": "python",
   "nbconvert_exporter": "python",
   "pygments_lexer": "ipython3",
   "version": "3.7.6"
  }
 },
 "nbformat": 4,
 "nbformat_minor": 4
}
