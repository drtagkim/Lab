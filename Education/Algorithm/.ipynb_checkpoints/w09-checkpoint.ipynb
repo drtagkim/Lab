{
 "cells": [
  {
   "cell_type": "markdown",
   "metadata": {},
   "source": [
    "# Palindrome 찾기"
   ]
  },
  {
   "cell_type": "code",
   "execution_count": 1,
   "metadata": {},
   "outputs": [],
   "source": [
    "def palindrome(s):\n",
    "    qu=[]\n",
    "    st=[]\n",
    "    for x in s:\n",
    "        if x.isalpha():\n",
    "            qu.append(x.lower())\n",
    "            st.append(x.lower())\n",
    "    while qu:\n",
    "        if qu.pop(0) != st.pop():\n",
    "            return False\n",
    "    return True"
   ]
  },
  {
   "cell_type": "code",
   "execution_count": 2,
   "metadata": {},
   "outputs": [
    {
     "name": "stdout",
     "output_type": "stream",
     "text": [
      "True\n"
     ]
    }
   ],
   "source": [
    "print(palindrome(\"WoW\"))"
   ]
  },
  {
   "cell_type": "code",
   "execution_count": 3,
   "metadata": {},
   "outputs": [
    {
     "name": "stdout",
     "output_type": "stream",
     "text": [
      "False\n"
     ]
    }
   ],
   "source": [
    "print(palindrome(\"Woa\"))"
   ]
  },
  {
   "cell_type": "markdown",
   "metadata": {},
   "source": [
    "# 동명이인 찾기"
   ]
  },
  {
   "cell_type": "code",
   "execution_count": 4,
   "metadata": {},
   "outputs": [],
   "source": [
    "def find_same_name(a):\n",
    "    name_dict={}\n",
    "    for name in a:\n",
    "        if name in name_dict:\n",
    "            name_dict[name]+=1\n",
    "        else:\n",
    "            name_dict[name]=1\n",
    "    result=set()\n",
    "    for name in name_dict:\n",
    "        if name_dict[name]>=2:\n",
    "            result.add(name)\n",
    "    return result"
   ]
  },
  {
   "cell_type": "code",
   "execution_count": 7,
   "metadata": {},
   "outputs": [],
   "source": [
    "name=[\"Tom\",\"Jerry\",\"Mike\",\"Tom\",\"Mike\",\"Maria\"]"
   ]
  },
  {
   "cell_type": "code",
   "execution_count": 8,
   "metadata": {},
   "outputs": [
    {
     "name": "stdout",
     "output_type": "stream",
     "text": [
      "{'Tom', 'Mike'}\n"
     ]
    }
   ],
   "source": [
    "print(find_same_name(name))"
   ]
  }
 ],
 "metadata": {
  "kernelspec": {
   "display_name": "Python 3",
   "language": "python",
   "name": "python3"
  },
  "language_info": {
   "codemirror_mode": {
    "name": "ipython",
    "version": 3
   },
   "file_extension": ".py",
   "mimetype": "text/x-python",
   "name": "python",
   "nbconvert_exporter": "python",
   "pygments_lexer": "ipython3",
   "version": "3.7.6"
  }
 },
 "nbformat": 4,
 "nbformat_minor": 4
}
