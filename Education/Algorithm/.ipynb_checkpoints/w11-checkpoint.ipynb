{
 "cells": [
  {
   "cell_type": "markdown",
   "metadata": {},
   "source": [
    "## 미로 찾기"
   ]
  },
  {
   "cell_type": "code",
   "execution_count": 1,
   "metadata": {},
   "outputs": [],
   "source": [
    "maze={'a':['e'],\n",
    "     'b':['c','f'],\n",
    "     'c':['b','d'],\n",
    "     'd':['c'],\n",
    "     'e':['a','i'],\n",
    "     'f':['b','g','j'],\n",
    "     'g':['f','h'],\n",
    "     'h':['g','l'],\n",
    "     'i':['e','m'],\n",
    "     'j':['f','k','n'],\n",
    "     'k':['j','o'],\n",
    "     'l':['h','p'],\n",
    "     'm':['i','n'],\n",
    "     'n':['m','j'],\n",
    "     'o':['k'],\n",
    "     'p':['l']}"
   ]
  },
  {
   "cell_type": "code",
   "execution_count": 2,
   "metadata": {},
   "outputs": [],
   "source": [
    "def solve_maze(g,start,end):\n",
    "    qu=[]\n",
    "    done=set()\n",
    "    qu.append(start)\n",
    "    done.add(start)\n",
    "    while qu:\n",
    "        p=qu.pop(0) #지금까지의 경로들 중에서 처음 것(막히면 되돌아 가야 하니까)\n",
    "        v=p[-1] #마지막 부분은?\n",
    "        if v==end: #그것이 종점이면\n",
    "            return p #경로 전체를 돌려준다.\n",
    "        for x in g[v]: #연결 경로 중에서\n",
    "            if x not in done: #지나가지 않았던 곳은\n",
    "                qu.append(p+x) #연결한다.\n",
    "                done.add(x)\n",
    "    return \"no way out\""
   ]
  },
  {
   "cell_type": "code",
   "execution_count": 3,
   "metadata": {},
   "outputs": [
    {
     "name": "stdout",
     "output_type": "stream",
     "text": [
      "aeimnjfghlp\n"
     ]
    }
   ],
   "source": [
    "print(solve_maze(maze,'a','p'))"
   ]
  }
 ],
 "metadata": {
  "kernelspec": {
   "display_name": "Python 3",
   "language": "python",
   "name": "python3"
  },
  "language_info": {
   "codemirror_mode": {
    "name": "ipython",
    "version": 3
   },
   "file_extension": ".py",
   "mimetype": "text/x-python",
   "name": "python",
   "nbconvert_exporter": "python",
   "pygments_lexer": "ipython3",
   "version": "3.7.6"
  }
 },
 "nbformat": 4,
 "nbformat_minor": 4
}
