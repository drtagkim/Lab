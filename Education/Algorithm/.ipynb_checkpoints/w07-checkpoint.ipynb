{
 "cells": [
  {
   "cell_type": "markdown",
   "metadata": {},
   "source": [
    "# 이분 탐색(Binary Search)"
   ]
  },
  {
   "cell_type": "markdown",
   "metadata": {},
   "source": [
    "먼저 정렬을 하고 영역을 쪼개어 살펴본다."
   ]
  },
  {
   "cell_type": "code",
   "execution_count": 10,
   "metadata": {},
   "outputs": [],
   "source": [
    "def binary_search(a,x):\n",
    "    start=0\n",
    "    end=len(a)-1\n",
    "    while start<=end:\n",
    "        mid=(start+end)//2\n",
    "        if x==a[mid]:\n",
    "            return mid\n",
    "        elif x>a[mid]:\n",
    "            start=mid+1\n",
    "        else:\n",
    "            end=mid-1\n",
    "    return -1"
   ]
  },
  {
   "cell_type": "code",
   "execution_count": 6,
   "metadata": {},
   "outputs": [
    {
     "name": "stdout",
     "output_type": "stream",
     "text": [
      "5\n",
      "36\n",
      "-1\n"
     ]
    }
   ],
   "source": [
    "d=[1,4,9,16,25,36,49,64,81]\n",
    "d.sort() #정렬을 해야 한다.\n",
    "print(binary_search(d,36))\n",
    "print(d[5])\n",
    "print(binary_search(d,50))"
   ]
  },
  {
   "cell_type": "code",
   "execution_count": 11,
   "metadata": {},
   "outputs": [
    {
     "name": "stdout",
     "output_type": "stream",
     "text": [
      "[1, 2, 4, 7]\n",
      "1\n"
     ]
    }
   ],
   "source": [
    "d=[4,2,1,7]\n",
    "d.sort() #정렬을 해야 한다.\n",
    "print(d)\n",
    "print(binary_search(d,2))"
   ]
  }
 ],
 "metadata": {
  "kernelspec": {
   "display_name": "Python 3",
   "language": "python",
   "name": "python3"
  },
  "language_info": {
   "codemirror_mode": {
    "name": "ipython",
    "version": 3
   },
   "file_extension": ".py",
   "mimetype": "text/x-python",
   "name": "python",
   "nbconvert_exporter": "python",
   "pygments_lexer": "ipython3",
   "version": "3.7.6"
  }
 },
 "nbformat": 4,
 "nbformat_minor": 4
}
