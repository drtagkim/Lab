{
 "cells": [
  {
   "cell_type": "markdown",
   "metadata": {},
   "source": [
    "# 탐색 & 정렬"
   ]
  },
  {
   "cell_type": "markdown",
   "metadata": {},
   "source": [
    "## 삽입 정렬"
   ]
  },
  {
   "cell_type": "code",
   "execution_count": 1,
   "metadata": {},
   "outputs": [
    {
     "name": "stdout",
     "output_type": "stream",
     "text": [
      "[1, 2, 3, 4, 5]\n"
     ]
    }
   ],
   "source": [
    "# 입력: 리스트 a\n",
    "# 출력: 정렬된 새 리스트\n",
    "\n",
    "# 리스트 r에서 v가 들어가야 할 위치를 돌려주는 함수\n",
    "def find_ins_idx(r, v):\n",
    "    # 이미 정렬된 리스트 r의 자료를 앞에서부터 차례로 확인하여\n",
    "    for i in range(0, len(r)):\n",
    "        # v 값보다 i번 위치에 있는 자료 값이 크면\n",
    "        # v가 그 값 바로 앞에 놓여야 정렬 순서가 유지됨\n",
    "        if v < r[i]:\n",
    "            return i\n",
    "    # 적절한 위치를 못 찾았을 때는\n",
    "    # v가 r의 모든 자료보다 크다는 뜻이므로 맨 뒤에 삽입\n",
    "    return len(r)\n",
    "\n",
    "def ins_sort(a):\n",
    "    result = []  # 새 리스트를 만들어 정렬된 값을 저장\n",
    "    while a:     # 기존 리스트에 값이 남아 있는 동안 반복\n",
    "        value = a.pop(0) # 가장 앞의 것을 꺼냄. 선입선출 기준\n",
    "        ins_idx = find_ins_idx(result, value)  # 꺼낸 값이 들어갈 적당한 위치 찾기\n",
    "        result.insert(ins_idx, value)  # 찾은 위치에 값 삽입(이후 값은 한 칸씩 밀려남)\n",
    "    return result\n",
    "\n",
    "d = [2, 4, 5, 1, 3]\n",
    "print(ins_sort(d))\n"
   ]
  },
  {
   "cell_type": "code",
   "execution_count": 3,
   "metadata": {},
   "outputs": [
    {
     "name": "stdout",
     "output_type": "stream",
     "text": [
      "[1, 2, 3, 4, 5]\n"
     ]
    }
   ],
   "source": [
    "# 삽입 정렬\n",
    "# 입력: 리스트 a\n",
    "# 출력: 없음(입력으로 주어진 a가 정렬됨)\n",
    "\n",
    "def ins_sort(a):\n",
    "    n = len(a)\n",
    "    for i in range(1, n):  # 1부터 n-1까지\n",
    "        # i번 위치의 값을 key로 저장(이것이 핵심)\n",
    "        key = a[i]\n",
    "        # j를 i 바로 왼쪽 위치로 저장\n",
    "        j = i - 1\n",
    "        # 리스트의 j번 위치에 있는 값과 key를 비교해 key가 삽입될 적절한 위치를 찾음\n",
    "        # 이미 정렬이 끝났다면 아래의 while 코드는 실행할 이유가 없다. 따라서 O(n)의 속도를 보이게 됨\n",
    "        while j >= 0 and a[j] > key:\n",
    "            a[j + 1] = a[j]  # 삽입할 공간이 생기도록 값을 오른쪽으로 한 칸 이동\n",
    "            j -= 1\n",
    "        a[j + 1] = key  # 찾은 삽입 위치에 key를 저장\n",
    "\n",
    "d = [2, 4, 5, 1, 3]\n",
    "ins_sort(d)\n",
    "print(d)\n"
   ]
  },
  {
   "cell_type": "markdown",
   "metadata": {},
   "source": [
    "![](w04-insert01.png)\n",
    "![](w04-insert02.png)\n",
    "![](w04-insert03.png)\n",
    "![](w04-insert04.png)"
   ]
  },
  {
   "cell_type": "code",
   "execution_count": 9,
   "metadata": {},
   "outputs": [
    {
     "name": "stdout",
     "output_type": "stream",
     "text": [
      "[001] s i=1, j=0, key=4, list=[2, 4, 5, 1, 3]\n",
      "[001] e i=1, j=0, key=4, list=[2, 4, 5, 1, 3]\n",
      "-------------------\n",
      "[001] s i=2, j=1, key=5, list=[2, 4, 5, 1, 3]\n",
      "[001] e i=2, j=1, key=5, list=[2, 4, 5, 1, 3]\n",
      "-------------------\n",
      "[001] s i=3, j=2, key=1, list=[2, 4, 5, 1, 3]\n",
      "[002]...i=3, j=1, key=1,list=[2, 4, 5, 5, 3]\n",
      "[003]...i=3, j=0, key=1,list=[2, 4, 4, 5, 3]\n",
      "[004]...i=3, j=-1, key=1,list=[2, 2, 4, 5, 3]\n",
      "[004] e i=3, j=-1, key=1, list=[1, 2, 4, 5, 3]\n",
      "-------------------\n",
      "[004] s i=4, j=3, key=3, list=[1, 2, 4, 5, 3]\n",
      "[005]...i=4, j=2, key=3,list=[1, 2, 4, 5, 5]\n",
      "[006]...i=4, j=1, key=3,list=[1, 2, 4, 4, 5]\n",
      "[006] e i=4, j=1, key=3, list=[1, 2, 3, 4, 5]\n",
      "-------------------\n",
      "[1, 2, 3, 4, 5]\n"
     ]
    }
   ],
   "source": [
    "# 삽입 정렬\n",
    "# 입력: 리스트 a\n",
    "# 출력: 없음(입력으로 주어진 a가 정렬됨)\n",
    "\n",
    "def ins_sort_progress(a):\n",
    "    n = len(a)\n",
    "    cnt=1\n",
    "    for i in range(1, n):  # 1부터 n-1까지\n",
    "        key = a[i]\n",
    "        j = i - 1\n",
    "        print(\"[{:03}] s i={}, j={}, key={}, list={}\".format(cnt,i,j,key,a))\n",
    "        while j >= 0 and a[j] > key:\n",
    "            a[j + 1] = a[j]  # 삽입할 공간이 생기도록 값을 오른쪽으로 한 칸 이동\n",
    "            j -= 1\n",
    "            cnt+=1\n",
    "            print(\"[{:03}]...i={}, j={}, key={},list={}\".format(cnt,i,j,key,a))\n",
    "        a[j + 1] = key  # 찾은 삽입 위치에 key를 저장\n",
    "        print(\"[{:03}] e i={}, j={}, key={}, list={}\".format(cnt,i,j,key,a))\n",
    "        print(\"-------------------\")\n",
    "d = [2, 4, 5, 1, 3]\n",
    "ins_sort_progress(d)\n",
    "print(d)"
   ]
  },
  {
   "cell_type": "markdown",
   "metadata": {},
   "source": [
    "내림 차순으로 하려면?"
   ]
  },
  {
   "cell_type": "code",
   "execution_count": 5,
   "metadata": {},
   "outputs": [
    {
     "name": "stdout",
     "output_type": "stream",
     "text": [
      "[5, 4, 3, 2, 1]\n"
     ]
    }
   ],
   "source": [
    "# 내림차순 삽입 정렬\n",
    "# 입력: 리스트 a\n",
    "# 출력: 없음(입력으로 주어진 a가 정렬됨)\n",
    "\n",
    "def ins_sort(a):\n",
    "    n = len(a)\n",
    "    for i in range(1, n):\n",
    "        key = a[i]\n",
    "        j = i - 1\n",
    "        while j >= 0 and a[j] < key:  # 부등호 방향 뒤집기\n",
    "            a[j + 1] = a[j]\n",
    "            j -= 1\n",
    "        a[j + 1] = key\n",
    "\n",
    "d = [2, 4, 5, 1, 3]\n",
    "ins_sort(d)\n",
    "print(d)\n"
   ]
  },
  {
   "cell_type": "markdown",
   "metadata": {},
   "source": [
    "하나의 알고리즘으로 삽입정렬을 오름차순, 내림차순으로 하게 수정하시오."
   ]
  },
  {
   "cell_type": "code",
   "execution_count": 16,
   "metadata": {},
   "outputs": [
    {
     "name": "stdout",
     "output_type": "stream",
     "text": [
      "[1, 2, 3, 4, 5]\n",
      "[5, 4, 3, 2, 1]\n"
     ]
    }
   ],
   "source": [
    "def ins_sort(a,reverse=False):\n",
    "    n = len(a)\n",
    "    for i in range(1, n):\n",
    "        key = a[i]\n",
    "        j = i - 1\n",
    "        if reverse:\n",
    "            while j >= 0 and a[j] < key:\n",
    "                a[j + 1] = a[j]\n",
    "                j -= 1\n",
    "        else:\n",
    "            while j >= 0 and a[j] > key:\n",
    "                a[j + 1] = a[j]\n",
    "                j -= 1\n",
    "        a[j + 1] = key\n",
    "\n",
    "d = [2, 4, 5, 1, 3]\n",
    "ins_sort(d)\n",
    "print(d)\n",
    "ins_sort(d,reverse=True)\n",
    "print(d)"
   ]
  }
 ],
 "metadata": {
  "kernelspec": {
   "display_name": "Python 3",
   "language": "python",
   "name": "python3"
  },
  "language_info": {
   "codemirror_mode": {
    "name": "ipython",
    "version": 3
   },
   "file_extension": ".py",
   "mimetype": "text/x-python",
   "name": "python",
   "nbconvert_exporter": "python",
   "pygments_lexer": "ipython3",
   "version": "3.7.6"
  }
 },
 "nbformat": 4,
 "nbformat_minor": 4
}
