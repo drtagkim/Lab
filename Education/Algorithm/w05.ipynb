{
 "cells": [
  {
   "cell_type": "markdown",
   "metadata": {},
   "source": [
    "# 병합정렬\n",
    "병합정렬 알고리즘은 대표적인 분할-정복 알고리즘이다."
   ]
  },
  {
   "cell_type": "markdown",
   "metadata": {},
   "source": [
    "list의 pop에 대해서 다시 알아보자.\n",
    "pop(0)은 list의 가장 앞 원소를 뽑아낸다. 아래의 예를 보면 **[1,2,3]**에서 0번째 값인 1이 제거된 것을 알 수 있다."
   ]
  },
  {
   "cell_type": "code",
   "execution_count": 1,
   "metadata": {},
   "outputs": [
    {
     "name": "stdout",
     "output_type": "stream",
     "text": [
      "[2, 3]\n"
     ]
    }
   ],
   "source": [
    "x=[1,2,3]\n",
    "x.pop(0)\n",
    "print(x)"
   ]
  },
  {
   "cell_type": "markdown",
   "metadata": {},
   "source": [
    "몫 연산자 //도 잊지말자. 10을 2로 나누면 몫은 5이다. 즉 10=2*5가 된다."
   ]
  },
  {
   "cell_type": "code",
   "execution_count": 2,
   "metadata": {},
   "outputs": [
    {
     "data": {
      "text/plain": [
       "5"
      ]
     },
     "execution_count": 2,
     "metadata": {},
     "output_type": "execute_result"
    }
   ],
   "source": [
    "10//2"
   ]
  },
  {
   "cell_type": "markdown",
   "metadata": {},
   "source": [
    "병합정렬을 간단하게 생각하면 다음 코드와 같다."
   ]
  },
  {
   "cell_type": "code",
   "execution_count": 12,
   "metadata": {},
   "outputs": [],
   "source": [
    "def merge_sort(a):\n",
    "    result=[] #결과값을 저장할 곳의 이름을 result라고 한다.\n",
    "    n=len(a) #입력 list의 크기를 N이라고 하자.\n",
    "    if n<=1: #크기가 1이면 정렬할 것이 없으므로 그냥 돌려준다. 재귀함수에서 배웠다.\n",
    "        return a\n",
    "    #절반을 나눠서 재귀알고리즘을 사용하자. \n",
    "    mid=n//2 #절반에 해당하는 곳의 위치를 알아내자. 2로 나누면 접히는 곳의 index를 구할 수 있다.\n",
    "    g1=merge_sort(a[:mid]) #절반 이전을 merge_sort한 결과를 g1\n",
    "    g2=merge_sort(a[mid:]) #절반 이후를 merge_sort한 결과를 g2라고 하자.\n",
    "    #병합한다.\n",
    "    #알고리즘에 따라 g1과 g2는 이미 정렬이 되어 있다고 가정할 수 있다.\n",
    "    while g1 and g2: #값이 들어 있다면,\n",
    "        #이제 각 리스트의 첫번째 값을 비교한다.\n",
    "        #만약, g2의 첫번째 원소는 어떠한 g2의 원소보다 작다.\n",
    "        #따라서 g1과 g2 중 작은 값이 사실상 가장 작은 값이다.\n",
    "        if g1[0]<g2[0]: \n",
    "            result.append(g1.pop(0)) #작은 값을 찾아 result에 넣는다. 이제 값이 빠진 원소는 크기가 줄어든다.\n",
    "        else:\n",
    "            result.append(g2.pop(0))\n",
    "    #어느 것이든 한쪽에서 원소가 다 떨어지면 while은 종료된다.\n",
    "    while g1: #남은 원소를 모두 추가한다.\n",
    "        result.append(g1.pop(0))\n",
    "    while g2: #마찬가지로 남원 원소를 모두 추가한다.\n",
    "        result.append(g2.pop(0))\n",
    "    #위의 while g1이나 while g2는 어느 한쪽만 실행된다.\n",
    "    return result #결과를 반환한다."
   ]
  },
  {
   "cell_type": "markdown",
   "metadata": {},
   "source": [
    "시험해보자."
   ]
  },
  {
   "cell_type": "code",
   "execution_count": 7,
   "metadata": {},
   "outputs": [
    {
     "data": {
      "text/plain": [
       "[1, 2, 4, 6, 7, 8, 9]"
      ]
     },
     "execution_count": 7,
     "metadata": {},
     "output_type": "execute_result"
    }
   ],
   "source": [
    "test_x=[2,1,7,6,4,9,8]\n",
    "merge_sort(test_x)"
   ]
  },
  {
   "cell_type": "markdown",
   "metadata": {},
   "source": [
    "## 과제 1\n",
    "merge_sort알고리즘을 그림으로 그려서 설명하라. 과정을 일일이 설명해야 한다. [2,1,7,6,4,9,8]을 예제 데이터로 사용할 것.\n",
    "\n",
    "## 과제 2\n",
    "만약 [1,2,5,4,4,3]과 같이 같은 숫자가 2개 있는 경우에 merge_sort()는 어떻게 작동하는가? merge_sort()와 관련하여 자세히 서술하시오."
   ]
  },
  {
   "cell_type": "markdown",
   "metadata": {},
   "source": [
    "# 병합정렬 2\n",
    "참조에 의한 호출(call by reference)에 의한 merge sort 알고리즘을 살펴보자."
   ]
  },
  {
   "cell_type": "code",
   "execution_count": 8,
   "metadata": {},
   "outputs": [],
   "source": [
    "def fun(a):\n",
    "    a[0]=-1"
   ]
  },
  {
   "cell_type": "markdown",
   "metadata": {},
   "source": [
    "Python에서 list는 기본적으로 참조에 의한 호출이다. 즉 함수로 넘겨받은 리스트의 값을 바꾸면 return을 하지 않아도 원래 리스트의 값이 바뀐다. 아래의 예를 보면 fun(x)로 x의 첫번째 값을 바꿨다."
   ]
  },
  {
   "cell_type": "code",
   "execution_count": 9,
   "metadata": {},
   "outputs": [
    {
     "name": "stdout",
     "output_type": "stream",
     "text": [
      "[-1, 2, 3]\n"
     ]
    }
   ],
   "source": [
    "x=[1,2,3]\n",
    "fun(x)\n",
    "print(x)"
   ]
  },
  {
   "cell_type": "markdown",
   "metadata": {},
   "source": [
    "이런 성질을 이용해 알고리즘을 풀어보자. 이번에는 pop()을 쓰지 않고 동일한 알고리즘을 만든다."
   ]
  },
  {
   "cell_type": "code",
   "execution_count": 11,
   "metadata": {},
   "outputs": [],
   "source": [
    "def merge_sort2(a):\n",
    "    n=len(a) #길이 재기\n",
    "    if n<=1: #1보다 작거나 같으면\n",
    "        return #바꿀 것이 없다.\n",
    "    mid=n//2 #중간이 어디인가?\n",
    "    g1=a[:mid] #둘씩 가르자.\n",
    "    g2=a[mid:]\n",
    "    merge_sort2(g1) #재귀함수\n",
    "    merge_sort2(g2) #재귀함수\n",
    "    #이제 g1, g2는 모두 각각 잘 정렬이 되어 있다.\n",
    "    #인덱스를 다루기 위해 모두 3개의 인덱스 값이 필요하다.\n",
    "    #이유가 무엇인가?\n",
    "    i1=0\n",
    "    i2=0\n",
    "    ia=0\n",
    "    #값을 비교해서 옮기자.\n",
    "    #이전에 만들었던 merge_sort()와는 달리 각각의 g1, g2의 크기가 변하지 않는다. 이유는?\n",
    "    while i1<len(g1) and i2<len(g2): #인덱스에서 더 이상 비교할 것이 없을 때까지 비교한다.\n",
    "        if g1[i1]<g2[i2]: #만약 현재 인덱스에서 g1이 g2보다 작다면,\n",
    "            a[ia]=g1[i1] #원래 입력할 a의 값을 작은 값으로 업데이트 한다.(덮어쓴다.)\n",
    "            i1+=1 #작은 쪽의 index를 올린다. 이유는?\n",
    "            ia+=1 #어떤 결과든 원래 입력한 a에서 업데이트할 장소는 다음으로 이동시켜야 한다.\n",
    "        else: #만약 g2에 더 작은 값이 있다면,\n",
    "            a[ia]=g2[i2] #이제 g2값을 넣어주고\n",
    "            i2+=1 #g2의 index를 증가시킨다.\n",
    "            ia+=1\n",
    "    while i1<len(g1): #이렇게 해서도 남은 것이 있다면?\n",
    "        a[ia]=g1[i1] #계속 업데이트해서 올린다.\n",
    "        i1+=1\n",
    "        ia+=1\n",
    "    #위의 while i1<len(g1)이나 아래의 while i2<len(g2) 중 하나만 실행된다.\n",
    "    while i2<len(g2):\n",
    "        a[ia]=g2[i2]\n",
    "        i2+=1\n",
    "        ia+=1"
   ]
  },
  {
   "cell_type": "markdown",
   "metadata": {},
   "source": [
    "결과를 시험해보자."
   ]
  },
  {
   "cell_type": "code",
   "execution_count": 14,
   "metadata": {},
   "outputs": [
    {
     "name": "stdout",
     "output_type": "stream",
     "text": [
      "[1, 2, 4, 6, 7, 8, 9]\n"
     ]
    }
   ],
   "source": [
    "test_x=[2,1,7,6,4,9,8]\n",
    "merge_sort2(test_x)\n",
    "print(test_x)"
   ]
  },
  {
   "cell_type": "markdown",
   "metadata": {},
   "source": [
    "## 과제 3\n",
    "merge_sort2()에서 i1, i2, 그리고 ia의 값이 어떻게 변화되는지 직접 표시하시오. 이때 예로 [2,1,7,6,4,9,8]을 사용할 것.\n",
    "\n",
    "## 과제 4\n",
    "merge_sort2()에서 재귀함수 알고리즘은 어떻게 작동하고 있는지 설명하시오.\n",
    "\n",
    "## 과제 5\n",
    "왜 while i1<len(g1)과 while i2<len(g2) 중 하나만 실행되는지 설명하시오."
   ]
  },
  {
   "cell_type": "code",
   "execution_count": null,
   "metadata": {},
   "outputs": [],
   "source": []
  }
 ],
 "metadata": {
  "kernelspec": {
   "display_name": "Python 3",
   "language": "python",
   "name": "python3"
  },
  "language_info": {
   "codemirror_mode": {
    "name": "ipython",
    "version": 3
   },
   "file_extension": ".py",
   "mimetype": "text/x-python",
   "name": "python",
   "nbconvert_exporter": "python",
   "pygments_lexer": "ipython3",
   "version": "3.7.3"
  }
 },
 "nbformat": 4,
 "nbformat_minor": 2
}
