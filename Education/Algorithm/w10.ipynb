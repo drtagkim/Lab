{
 "cells": [
  {
   "cell_type": "markdown",
   "metadata": {},
   "source": [
    "# 그래프"
   ]
  },
  {
   "cell_type": "code",
   "execution_count": 1,
   "metadata": {},
   "outputs": [],
   "source": [
    "fr_info={\n",
    "    'Summer':['John','Justin','Mike'],\n",
    "    'John':['Summer','Justin'],\n",
    "    'Justin':['John','Summer','Mike','May'],\n",
    "    'Mike':['Summer','Justin'],\n",
    "    'May':['Justin','Kim'],\n",
    "    'Kim':['May',],\n",
    "    'Tom':['Jerry,'],\n",
    "    'Jerry':['Tom',]\n",
    "}"
   ]
  },
  {
   "cell_type": "markdown",
   "metadata": {},
   "source": [
    "## 친구의 네트워크"
   ]
  },
  {
   "cell_type": "code",
   "execution_count": 5,
   "metadata": {},
   "outputs": [],
   "source": [
    "def print_all_friends(g,start):\n",
    "    qu=[]\n",
    "    done=set()\n",
    "    qu.append(start)\n",
    "    done.add(start)\n",
    "    while qu:\n",
    "        p=qu.pop(0)\n",
    "        print(p)\n",
    "        for x in g[p]:\n",
    "            if x not in done:\n",
    "                qu.append(x)\n",
    "                done.add(x)"
   ]
  },
  {
   "cell_type": "code",
   "execution_count": 6,
   "metadata": {},
   "outputs": [
    {
     "name": "stdout",
     "output_type": "stream",
     "text": [
      "Summer\n",
      "John\n",
      "Justin\n",
      "Mike\n",
      "May\n",
      "Kim\n"
     ]
    }
   ],
   "source": [
    "print_all_friends(fr_info,'Summer')"
   ]
  },
  {
   "cell_type": "markdown",
   "metadata": {},
   "source": [
    "## 친밀도(degree) 계산하기"
   ]
  },
  {
   "cell_type": "markdown",
   "metadata": {},
   "source": [
    "연결이 많으면 많을수록 멀리 떨어져 있다. 연결의 횟수를 세어 친밀도를 알아보자."
   ]
  },
  {
   "cell_type": "code",
   "execution_count": 9,
   "metadata": {},
   "outputs": [],
   "source": [
    "def print_all_friends_degree(g,start):\n",
    "    qu=[]\n",
    "    done=set()\n",
    "    qu.append((start,0))\n",
    "    done.add(start)\n",
    "    while qu:\n",
    "        (p,d)=qu.pop(0)\n",
    "        print(p,d)\n",
    "        for x in g[p]:\n",
    "            if x not in done:\n",
    "                qu.append((x,d+1))\n",
    "                done.add(x)"
   ]
  },
  {
   "cell_type": "code",
   "execution_count": 10,
   "metadata": {
    "scrolled": true
   },
   "outputs": [
    {
     "name": "stdout",
     "output_type": "stream",
     "text": [
      "Summer 0\n",
      "John 1\n",
      "Justin 1\n",
      "Mike 1\n",
      "May 2\n",
      "Kim 3\n",
      "None\n"
     ]
    }
   ],
   "source": [
    "print(print_all_friends_degree(fr_info,'Summer'))"
   ]
  }
 ],
 "metadata": {
  "kernelspec": {
   "display_name": "Python 3",
   "language": "python",
   "name": "python3"
  },
  "language_info": {
   "codemirror_mode": {
    "name": "ipython",
    "version": 3
   },
   "file_extension": ".py",
   "mimetype": "text/x-python",
   "name": "python",
   "nbconvert_exporter": "python",
   "pygments_lexer": "ipython3",
   "version": "3.7.6"
  }
 },
 "nbformat": 4,
 "nbformat_minor": 4
}
