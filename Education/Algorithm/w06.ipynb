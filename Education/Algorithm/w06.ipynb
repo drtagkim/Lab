{
 "cells": [
  {
   "cell_type": "markdown",
   "metadata": {},
   "source": [
    "# Quick 정렬"
   ]
  },
  {
   "cell_type": "markdown",
   "metadata": {},
   "source": [
    "기준값을 정해 그것보다 작은 것과 그것보다 큰 것을 나눈다.\n",
    "\n",
    "그리고 각각에 대해서 다시 퀵정렬을 수행한다(재귀 함수 호출)\n",
    "\n",
    "편의상 가장 마지막 값을 기준으로 정한다."
   ]
  },
  {
   "cell_type": "code",
   "execution_count": 5,
   "metadata": {},
   "outputs": [],
   "source": [
    "def quick_sort1(a):\n",
    "    n=len(a)\n",
    "    if n<=1:\n",
    "        return a\n",
    "    pivot=a[-1]\n",
    "    g1=[]\n",
    "    g2=[]\n",
    "    for i in range(0,n-1):\n",
    "        if a[i]<pivot:\n",
    "            g1.append(a[i])\n",
    "        else:\n",
    "            g2.append(a[i])\n",
    "    return quick_sort(g1)+[pivot]+quick_sort(g2)"
   ]
  },
  {
   "cell_type": "code",
   "execution_count": 6,
   "metadata": {
    "scrolled": true
   },
   "outputs": [
    {
     "name": "stdout",
     "output_type": "stream",
     "text": [
      "[1, 2, 3, 4, 5, 6, 7, 8, 9, 10]\n"
     ]
    }
   ],
   "source": [
    "d=[6,8,3,9,10,1,2,4,7,5]\n",
    "print(quick_sort1(d))"
   ]
  },
  {
   "cell_type": "markdown",
   "metadata": {},
   "source": [
    "다른 스타일의 퀵정렬\n",
    "* 마지막 값을 기준값으로 정하고\n",
    "* 시작부터 기준까지 비교하여 기준값이 작은 것이 발견되면 자리를 계속 바꾼다.\n",
    "* "
   ]
  },
  {
   "cell_type": "code",
   "execution_count": 7,
   "metadata": {},
   "outputs": [],
   "source": [
    "def quick_sort2(a,start,end):\n",
    "    if end-start<=0:\n",
    "        return\n",
    "    pivot=a[end] #일단 기준값을 제일 마지막\n",
    "    i=start\n",
    "    for j in range(start,end):\n",
    "        if a[j]<=pivot: #옮겨가면서 기준값을 기준으로 작은 것들을\n",
    "            a[i],a[j]=a[j],a[i] #i의 왼쪽으로 배치\n",
    "            i+=1 #자연스럽게 기준값은 i위치가 됨\n",
    "    a[i],a[end]=a[end],a[i] #실제 pivot의 값을 i의 값과 바꿈\n",
    "    quick_sort2(a,start,i-1) #pivot보다 작은 것들에 대해서 다시 퀵정렬\n",
    "    quick_sort2(a,i+1,end) #pivot보다 큰 것들에 대해서 다시 퀵정렬"
   ]
  },
  {
   "cell_type": "code",
   "execution_count": 8,
   "metadata": {},
   "outputs": [],
   "source": [
    "d=[6,8,3,9,10,1,2,4,7,5]\n",
    "quick_sort2(d,0,len(d)-1)"
   ]
  },
  {
   "cell_type": "code",
   "execution_count": 9,
   "metadata": {},
   "outputs": [
    {
     "data": {
      "text/plain": [
       "[1, 2, 3, 4, 5, 6, 7, 8, 9, 10]"
      ]
     },
     "execution_count": 9,
     "metadata": {},
     "output_type": "execute_result"
    }
   ],
   "source": [
    "d"
   ]
  },
  {
   "cell_type": "markdown",
   "metadata": {},
   "source": [
    "# 알고리즘의 속도\n",
    "Quick 정렬의 복잡도는 최악의 경우 선택 정렬과 같이 $O(n^2)$이나, 평균적일 때는 병합정렬과 같은 $O(n\\log{n})$이다. 결국 좋은 기준값을 어떻게 잡는가에 따라 알고리즘의 속도가 결정된다."
   ]
  }
 ],
 "metadata": {
  "kernelspec": {
   "display_name": "Python 3",
   "language": "python",
   "name": "python3"
  },
  "language_info": {
   "codemirror_mode": {
    "name": "ipython",
    "version": 3
   },
   "file_extension": ".py",
   "mimetype": "text/x-python",
   "name": "python",
   "nbconvert_exporter": "python",
   "pygments_lexer": "ipython3",
   "version": "3.7.6"
  }
 },
 "nbformat": 4,
 "nbformat_minor": 4
}
