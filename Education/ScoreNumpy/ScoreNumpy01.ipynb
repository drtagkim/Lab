{
 "cells": [
  {
   "cell_type": "code",
   "execution_count": 2,
   "metadata": {},
   "outputs": [
    {
     "name": "stdout",
     "output_type": "stream",
     "text": [
      "What type?  <class 'numpy.ndarray'>\n",
      "What shape?  (3,)\n",
      "Values of 1st and 2nd?  1 2\n",
      "New value of 1st? [5 2 3]\n"
     ]
    }
   ],
   "source": [
    "import numpy as np\n",
    "# 배열 만들기, 입력값을 list로 주는 경우\n",
    "a=np.array([1,2,3])\n",
    "print(\"What type? \",type(a))\n",
    "print(\"What shape? \",a.shape)\n",
    "print(\"Values of 1st and 2nd? \",a[0],a[1])\n",
    "a[0]=5\n",
    "print(\"New value of 1st?\", a)"
   ]
  },
  {
   "cell_type": "code",
   "execution_count": null,
   "metadata": {},
   "outputs": [],
   "source": []
  }
 ],
 "metadata": {
  "kernelspec": {
   "display_name": "Python 3",
   "language": "python",
   "name": "python3"
  },
  "language_info": {
   "codemirror_mode": {
    "name": "ipython",
    "version": 3
   },
   "file_extension": ".py",
   "mimetype": "text/x-python",
   "name": "python",
   "nbconvert_exporter": "python",
   "pygments_lexer": "ipython3",
   "version": "3.7.3"
  }
 },
 "nbformat": 4,
 "nbformat_minor": 2
}
