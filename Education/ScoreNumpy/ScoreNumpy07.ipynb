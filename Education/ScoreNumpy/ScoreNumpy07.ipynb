{
 "cells": [
  {
   "cell_type": "code",
   "execution_count": 1,
   "metadata": {},
   "outputs": [
    {
     "name": "stdout",
     "output_type": "stream",
     "text": [
      "int64\n"
     ]
    }
   ],
   "source": [
    "import numpy as np\n",
    "a=np.array([1,2])\n",
    "print(a.dtype) #데이터 타입, 큰 정수 = int64"
   ]
  },
  {
   "cell_type": "code",
   "execution_count": 2,
   "metadata": {},
   "outputs": [
    {
     "name": "stdout",
     "output_type": "stream",
     "text": [
      "float64\n"
     ]
    }
   ],
   "source": [
    "b=np.array([1.,2.]) #실수는 마침표 혹은 .0으로 (1. 혹은 1.0)\n",
    "print(b.dtype) #데이터 타입, 큰 실수 = float64"
   ]
  },
  {
   "cell_type": "code",
   "execution_count": 3,
   "metadata": {},
   "outputs": [
    {
     "name": "stdout",
     "output_type": "stream",
     "text": [
      "float32\n"
     ]
    }
   ],
   "source": [
    "c=np.array([1.2,2.0],dtype=np.float32) #작은 실수\n",
    "print(c.dtype)"
   ]
  },
  {
   "cell_type": "code",
   "execution_count": 4,
   "metadata": {},
   "outputs": [
    {
     "name": "stdout",
     "output_type": "stream",
     "text": [
      "int32\n"
     ]
    }
   ],
   "source": [
    "d=np.array([10,20.0],dtype='int32') #작은 실수, 문자코드로 지정\n",
    "print(d.dtype)"
   ]
  },
  {
   "cell_type": "markdown",
   "metadata": {},
   "source": [
    "# Code Score"
   ]
  },
  {
   "cell_type": "code",
   "execution_count": 1,
   "metadata": {},
   "outputs": [
    {
     "name": "stdout",
     "output_type": "stream",
     "text": [
      "int64\n"
     ]
    }
   ],
   "source": [
    "import numpy as np\n",
    "a=np.array([1,2])\n",
    "print(a.dtype) #데이터 타입, 큰 정수 = int64\n",
    "\n",
    "b=np.array([1.,2.]) #실수는 마침표 혹은 .0으로 (1. 혹은 1.0)\n",
    "print(b.dtype) #데이터 타입, 큰 실수 = float64\n",
    "\n",
    "c=np.array([1.2,2.0],dtype=np.float32) #작은 실수\n",
    "print(c.dtype)\n",
    "\n",
    "d=np.array([10,20.0],dtype='int32') #작은 실수, 문자코드로 지정\n",
    "print(d.dtype)"
   ]
  }
 ],
 "metadata": {
  "kernelspec": {
   "display_name": "Python 3",
   "language": "python",
   "name": "python3"
  },
  "language_info": {
   "codemirror_mode": {
    "name": "ipython",
    "version": 3
   },
   "file_extension": ".py",
   "mimetype": "text/x-python",
   "name": "python",
   "nbconvert_exporter": "python",
   "pygments_lexer": "ipython3",
   "version": "3.7.3"
  }
 },
 "nbformat": 4,
 "nbformat_minor": 2
}
