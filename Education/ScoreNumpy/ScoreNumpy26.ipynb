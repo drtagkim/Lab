{
 "cells": [
  {
   "cell_type": "code",
   "execution_count": 1,
   "metadata": {},
   "outputs": [
    {
     "data": {
      "text/plain": [
       "array('********KWU*********', dtype='<U20')"
      ]
     },
     "execution_count": 1,
     "metadata": {},
     "output_type": "execute_result"
    }
   ],
   "source": [
    "import numpy as np\n",
    "np.char.center('KWU',20,'*')"
   ]
  },
  {
   "cell_type": "code",
   "execution_count": 3,
   "metadata": {},
   "outputs": [
    {
     "name": "stdout",
     "output_type": "stream",
     "text": [
      "========KWU=========\n"
     ]
    }
   ],
   "source": [
    "print(np.char.center('KWU',20,'='))"
   ]
  },
  {
   "cell_type": "code",
   "execution_count": 6,
   "metadata": {},
   "outputs": [
    {
     "name": "stdout",
     "output_type": "stream",
     "text": [
      "Hello Hello Hello \n"
     ]
    }
   ],
   "source": [
    "print(np.char.multiply('Hello ',3))"
   ]
  },
  {
   "cell_type": "code",
   "execution_count": 7,
   "metadata": {},
   "outputs": [
    {
     "name": "stdout",
     "output_type": "stream",
     "text": [
      "['Hello xyz']\n"
     ]
    }
   ],
   "source": [
    "print(np.char.add(['Hello'],[' xyz']))"
   ]
  },
  {
   "cell_type": "code",
   "execution_count": 9,
   "metadata": {},
   "outputs": [
    {
     "name": "stdout",
     "output_type": "stream",
     "text": [
      "['hello abc' 'hi xyz']\n"
     ]
    }
   ],
   "source": [
    "print(np.char.add(['hello','hi'],[' abc',' xyz']))"
   ]
  },
  {
   "cell_type": "code",
   "execution_count": 10,
   "metadata": {},
   "outputs": [
    {
     "name": "stdout",
     "output_type": "stream",
     "text": [
      "Hello kwu students\n"
     ]
    }
   ],
   "source": [
    "print(np.char.capitalize('hello kwu students'))"
   ]
  },
  {
   "cell_type": "code",
   "execution_count": 11,
   "metadata": {},
   "outputs": [
    {
     "name": "stdout",
     "output_type": "stream",
     "text": [
      "Hello Kwu Students\n"
     ]
    }
   ],
   "source": [
    "print(np.char.title('hello kwu students'))"
   ]
  },
  {
   "cell_type": "code",
   "execution_count": 12,
   "metadata": {},
   "outputs": [
    {
     "name": "stdout",
     "output_type": "stream",
     "text": [
      "kwu hello\n"
     ]
    }
   ],
   "source": [
    "print(np.char.lower(\"KWU HELLO\"))"
   ]
  },
  {
   "cell_type": "code",
   "execution_count": 13,
   "metadata": {},
   "outputs": [
    {
     "name": "stdout",
     "output_type": "stream",
     "text": [
      "KWU HELLO\n"
     ]
    }
   ],
   "source": [
    "print(np.char.upper('kwu hello'))"
   ]
  },
  {
   "cell_type": "code",
   "execution_count": 15,
   "metadata": {},
   "outputs": [
    {
     "name": "stdout",
     "output_type": "stream",
     "text": [
      "['hello', 'how', 'are', 'you?']\n"
     ]
    }
   ],
   "source": [
    "print(np.char.split('hello how are you?'))"
   ]
  },
  {
   "cell_type": "code",
   "execution_count": 16,
   "metadata": {},
   "outputs": [
    {
     "name": "stdout",
     "output_type": "stream",
     "text": [
      "['hello', 'how are you?']\n"
     ]
    }
   ],
   "source": [
    "print(np.char.splitlines('hello\\nhow are you?'))"
   ]
  },
  {
   "cell_type": "code",
   "execution_count": 17,
   "metadata": {},
   "outputs": [
    {
     "name": "stdout",
     "output_type": "stream",
     "text": [
      "shok aror\n"
     ]
    }
   ],
   "source": [
    "print(np.char.strip('ashok arora','a'))"
   ]
  },
  {
   "cell_type": "code",
   "execution_count": 18,
   "metadata": {},
   "outputs": [
    {
     "name": "stdout",
     "output_type": "stream",
     "text": [
      "d:m:y\n"
     ]
    }
   ],
   "source": [
    "print(np.char.join(':','dmy'))"
   ]
  },
  {
   "cell_type": "code",
   "execution_count": 19,
   "metadata": {},
   "outputs": [
    {
     "name": "stdout",
     "output_type": "stream",
     "text": [
      "a,b,c,d\n"
     ]
    }
   ],
   "source": [
    "print(np.char.join(\",\",'abcd'))"
   ]
  },
  {
   "cell_type": "code",
   "execution_count": 20,
   "metadata": {},
   "outputs": [
    {
     "name": "stdout",
     "output_type": "stream",
     "text": [
      "He was a good boy.\n"
     ]
    }
   ],
   "source": [
    "print(np.char.replace('He is a good boy.','is','was'))"
   ]
  },
  {
   "cell_type": "code",
   "execution_count": 22,
   "metadata": {},
   "outputs": [
    {
     "name": "stdout",
     "output_type": "stream",
     "text": [
      "b'\\xbe\\xc8\\xb3\\xe7'\n"
     ]
    }
   ],
   "source": [
    "a=np.char.encode('안녕','cp949') #to cp949 from UTF-8\n",
    "print(a)"
   ]
  },
  {
   "cell_type": "code",
   "execution_count": 23,
   "metadata": {},
   "outputs": [
    {
     "name": "stdout",
     "output_type": "stream",
     "text": [
      "안녕\n"
     ]
    }
   ],
   "source": [
    "print(np.char.decode(a,'cp949')) #from cp949 to UTF-8"
   ]
  },
  {
   "cell_type": "markdown",
   "metadata": {},
   "source": [
    "# Code Score"
   ]
  },
  {
   "cell_type": "code",
   "execution_count": 1,
   "metadata": {},
   "outputs": [
    {
     "data": {
      "text/plain": [
       "array('********KWU*********', dtype='<U20')"
      ]
     },
     "execution_count": 1,
     "metadata": {},
     "output_type": "execute_result"
    }
   ],
   "source": [
    "import numpy as np\n",
    "np.char.center('KWU',20,'*')\n",
    "print(np.char.center('KWU',20,'='))\n",
    "print(np.char.multiply('Hello ',3))\n",
    "print(np.char.add(['Hello'],[' xyz']))\n",
    "print(np.char.add(['hello','hi'],[' abc',' xyz']))\n",
    "print(np.char.capitalize('hello kwu students'))\n",
    "print(np.char.title('hello kwu students'))\n",
    "print(np.char.lower(\"KWU HELLO\"))\n",
    "print(np.char.upper('kwu hello'))\n",
    "print(np.char.split('hello how are you?'))\n",
    "print(np.char.splitlines('hello\\nhow are you?'))\n",
    "print(np.char.strip('ashok arora','a'))\n",
    "print(np.char.join(':','dmy'))\n",
    "print(np.char.join(\",\",'abcd'))\n",
    "print(np.char.replace('He is a good boy.','is','was'))\n",
    "a=np.char.encode('안녕','cp949') #to cp949 from UTF-8\n",
    "print(np.char.decode(a,'cp949')) #from cp949 to UTF-8"
   ]
  }
 ],
 "metadata": {
  "kernelspec": {
   "display_name": "Python 3",
   "language": "python",
   "name": "python3"
  },
  "language_info": {
   "codemirror_mode": {
    "name": "ipython",
    "version": 3
   },
   "file_extension": ".py",
   "mimetype": "text/x-python",
   "name": "python",
   "nbconvert_exporter": "python",
   "pygments_lexer": "ipython3",
   "version": "3.7.3"
  }
 },
 "nbformat": 4,
 "nbformat_minor": 2
}
