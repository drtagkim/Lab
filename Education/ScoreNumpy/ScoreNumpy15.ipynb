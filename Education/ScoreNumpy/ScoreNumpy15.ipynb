{
 "cells": [
  {
   "cell_type": "code",
   "execution_count": 7,
   "metadata": {},
   "outputs": [
    {
     "name": "stdout",
     "output_type": "stream",
     "text": [
      "[10.]\n",
      "[10. 20.]\n",
      "[10.  12.5 15.  17.5 20. ]\n",
      "[10.         11.66666667 13.33333333 15.         16.66666667 18.33333333\n",
      " 20.        ]\n"
     ]
    }
   ],
   "source": [
    "import numpy as np\n",
    "print(np.linspace(start=10,stop=20,num=1))\n",
    "print(np.linspace(10,20,2))\n",
    "print(np.linspace(10,20,5))\n",
    "print(np.linspace(10,20,7))"
   ]
  },
  {
   "cell_type": "code",
   "execution_count": 8,
   "metadata": {},
   "outputs": [
    {
     "name": "stdout",
     "output_type": "stream",
     "text": [
      "[10. 12. 14. 16. 18.]\n"
     ]
    }
   ],
   "source": [
    "print(np.linspace(10,20,5,endpoint=False))"
   ]
  },
  {
   "cell_type": "markdown",
   "metadata": {},
   "source": [
    "# Code Score"
   ]
  },
  {
   "cell_type": "code",
   "execution_count": 7,
   "metadata": {},
   "outputs": [
    {
     "name": "stdout",
     "output_type": "stream",
     "text": [
      "[10.]\n",
      "[10. 20.]\n",
      "[10.  12.5 15.  17.5 20. ]\n",
      "[10.         11.66666667 13.33333333 15.         16.66666667 18.33333333\n",
      " 20.        ]\n"
     ]
    }
   ],
   "source": [
    "import numpy as np\n",
    "print(np.linspace(start=10,stop=20,num=1))\n",
    "print(np.linspace(10,20,2))\n",
    "print(np.linspace(10,20,5))\n",
    "print(np.linspace(10,20,7))\n",
    "print(np.linspace(10,20,5,endpoint=False))"
   ]
  }
 ],
 "metadata": {
  "kernelspec": {
   "display_name": "Python 3",
   "language": "python",
   "name": "python3"
  },
  "language_info": {
   "codemirror_mode": {
    "name": "ipython",
    "version": 3
   },
   "file_extension": ".py",
   "mimetype": "text/x-python",
   "name": "python",
   "nbconvert_exporter": "python",
   "pygments_lexer": "ipython3",
   "version": "3.7.3"
  }
 },
 "nbformat": 4,
 "nbformat_minor": 2
}
